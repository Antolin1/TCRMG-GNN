{
 "cells": [
  {
   "cell_type": "code",
   "execution_count": 58,
   "metadata": {},
   "outputs": [],
   "source": [
    "import sys\n",
    "sys.path.append('../python/')\n",
    "from json2graph import jsonFile2graph\n",
    "import networkx as nx\n",
    "from vocabulary import Vocabulary\n",
    "from graphUtils import plot_graph, graph2data, data2graph\n",
    "\n",
    "# generator must belong to {VIATRA,RANDOMEMF,ALLOY,RAND}\n",
    "generator = 'VIATRA'\n",
    "# modelType must belong to {Ecore,RDS,Yakindu}\n",
    "modelType = 'Ecore'"
   ]
  },
  {
   "cell_type": "markdown",
   "metadata": {},
   "source": [
    "# Generate dataset"
   ]
  },
  {
   "cell_type": "markdown",
   "metadata": {},
   "source": [
    "Vocabularies:"
   ]
  },
  {
   "cell_type": "code",
   "execution_count": 59,
   "metadata": {},
   "outputs": [],
   "source": [
    "vocab_edges = Vocabulary()\n",
    "vocab_nodes = Vocabulary()"
   ]
  },
  {
   "cell_type": "code",
   "execution_count": 60,
   "metadata": {},
   "outputs": [],
   "source": [
    "def addOpposite(G):\n",
    "    if (modelType == 'Ecore'):\n",
    "        to_add = []\n",
    "        for n1,n2,e in G.edges:\n",
    "            typee = G[n1][n2][e]['type']\n",
    "            if (typee == 'eSuperTypes' or\n",
    "               typee == 'eType' or typee == 'eOpposite'):\n",
    "                to_add.append((n2,n1,typee+'_inv'))\n",
    "        for n1,n2,t in to_add:\n",
    "            G.add_edge(n1,n2,type=t)\n",
    "        return G\n",
    "    elif (modelType == 'RDS'):\n",
    "        to_add = []\n",
    "        for n1,n2,e in G.edges:\n",
    "            typee = G[n1][n2][e]['type']\n",
    "            if (typee == 'elements' or\n",
    "               typee == 'columns' or typee == 'indexes'\n",
    "               or typee == 'column' or typee == 'indexColumns'):\n",
    "                to_add.append((n2,n1,typee+'_inv'))\n",
    "        for n1,n2,t in to_add:\n",
    "            G.add_edge(n1,n2,type=t)\n",
    "        return G\n",
    "    elif (modelType == 'Yakindu'):\n",
    "        to_add = []\n",
    "        for n1,n2,e in G.edges:\n",
    "            typee = G[n1][n2][e]['type']\n",
    "            if (typee == 'vertices' or\n",
    "               typee == 'regions'):\n",
    "                to_add.append((n2,n1,typee+'_inv'))\n",
    "        for n1,n2,t in to_add:\n",
    "            G.add_edge(n1,n2,type=t)\n",
    "        return G"
   ]
  },
  {
   "cell_type": "code",
   "execution_count": 61,
   "metadata": {},
   "outputs": [],
   "source": [
    "def passFilter(G):\n",
    "    return len(G) >= 4"
   ]
  },
  {
   "cell_type": "code",
   "execution_count": 62,
   "metadata": {},
   "outputs": [],
   "source": [
    "import glob\n",
    "#import random\n",
    "#RandomEmfEcore\n",
    "files = glob.glob(\"../syntheticGraphs/\"+generator+\"/\"+modelType+\"/*.json\")\n",
    "#files = glob.glob('/home/antolin/wakame/randomStuff/RealisticModels/YakinduRandomEmf/All/*.json')\n",
    "#files = random.sample(files,221)\n",
    "mine = []\n",
    "for f in files:\n",
    "    try:\n",
    "        G = jsonFile2graph(f)\n",
    "        G = addOpposite(G)\n",
    "        if not passFilter(G):\n",
    "            continue\n",
    "        data = graph2data(G,0,vocab_nodes,vocab_edges)\n",
    "        mine.append(data)\n",
    "    except:\n",
    "        continue\n",
    "#random.shuffle(mine)\n",
    "#mine = mine[0:268]"
   ]
  },
  {
   "cell_type": "code",
   "execution_count": 63,
   "metadata": {},
   "outputs": [
    {
     "data": {
      "text/plain": [
       "368"
      ]
     },
     "execution_count": 63,
     "metadata": {},
     "output_type": "execute_result"
    }
   ],
   "source": [
    "len(files)"
   ]
  },
  {
   "cell_type": "code",
   "execution_count": 64,
   "metadata": {},
   "outputs": [],
   "source": [
    "files = glob.glob(\"../realGraphs/\"+modelType+\"/R1/*.json\")\n",
    "real = []\n",
    "for f in files:\n",
    "    G = jsonFile2graph(f)\n",
    "    G = addOpposite(G)\n",
    "    if not passFilter(G):\n",
    "            continue\n",
    "    data = graph2data(G,1,vocab_nodes,vocab_edges)\n",
    "    real.append(data)"
   ]
  },
  {
   "cell_type": "code",
   "execution_count": 65,
   "metadata": {},
   "outputs": [],
   "source": [
    "import random\n",
    "random.seed(123)\n",
    "\n",
    "if len(mine) > len(real):\n",
    "    mine = random.sample(mine,len(real))\n",
    "elif len(mine) < len(real):\n",
    "    real = random.sample(real,len(mine))"
   ]
  },
  {
   "cell_type": "code",
   "execution_count": 66,
   "metadata": {},
   "outputs": [],
   "source": [
    "import random\n",
    "random.seed(3)\n",
    "dataset = mine + real\n",
    "random.shuffle(dataset)"
   ]
  },
  {
   "cell_type": "code",
   "execution_count": 67,
   "metadata": {},
   "outputs": [
    {
     "name": "stdout",
     "output_type": "stream",
     "text": [
      "Len train: 368\n"
     ]
    }
   ],
   "source": [
    "print('Len train:', len(dataset))"
   ]
  },
  {
   "cell_type": "code",
   "execution_count": 68,
   "metadata": {},
   "outputs": [
    {
     "data": {
      "text/plain": [
       "{'regions': 0,\n",
       " 'vertices': 1,\n",
       " 'regions_inv': 2,\n",
       " 'outgoingTransitions': 3,\n",
       " 'vertices_inv': 4,\n",
       " 'incomingTransitions': 5,\n",
       " 'target': 6,\n",
       " 'source': 7}"
      ]
     },
     "execution_count": 68,
     "metadata": {},
     "output_type": "execute_result"
    }
   ],
   "source": [
    "vocab_edges.word2id_names"
   ]
  },
  {
   "cell_type": "code",
   "execution_count": 69,
   "metadata": {},
   "outputs": [],
   "source": [
    "from torch.utils.data import random_split\n",
    "import torch\n",
    "train_len = int(0.6*len(dataset))\n",
    "val_len = int(0.15*len(dataset))\n",
    "test_len = len(dataset) - int(0.6*len(dataset)) - int(0.15*len(dataset))\n",
    "train, val, test = random_split(dataset, [train_len, val_len ,test_len], \n",
    "                                generator=torch.Generator().manual_seed(42))"
   ]
  },
  {
   "cell_type": "markdown",
   "metadata": {},
   "source": [
    "# Neural network"
   ]
  },
  {
   "cell_type": "code",
   "execution_count": 70,
   "metadata": {},
   "outputs": [],
   "source": [
    "import torch_geometric.nn as pyg_nn\n",
    "import torch_geometric.utils as pyg_utils\n",
    "import torch\n",
    "import torch.nn as nn\n",
    "import torch.nn.functional as F\n",
    "from torch_scatter.composite import scatter_softmax\n",
    "\n",
    "class GNN_MoRec(nn.Module):\n",
    "    \n",
    "    def __init__(self,dim_input,hidden_dim,dropout):\n",
    "        super(GNN_MoRec, self).__init__()\n",
    "        \n",
    "        \n",
    "        self.emb_nodes = nn.Embedding(len(vocab_nodes.word2id_names), dim_input)\n",
    "        \n",
    "        \n",
    "        self.conv_1 =  pyg_nn.RGCNConv(in_channels = dim_input, out_channels = hidden_dim, \n",
    "                                num_relations = len(vocab_edges.word2id_names))\n",
    "        \n",
    "        self.conv_2 =  pyg_nn.RGCNConv(in_channels = hidden_dim, out_channels = hidden_dim, \n",
    "                                num_relations = len(vocab_edges.word2id_names))\n",
    "                \n",
    "        \n",
    "        \n",
    "        self.d_1 = nn.Dropout(dropout)\n",
    "        \n",
    "        self.lin = nn.Linear(hidden_dim, 1)\n",
    "        \n",
    "        self.attention_vector = nn.Linear(hidden_dim,1,bias=False)\n",
    "    \n",
    "    def forward(self,nodeTypes,edge_index, edge_attr, bs):\n",
    "        \n",
    "        \n",
    "        nodeTypes = self.emb_nodes(nodeTypes)\n",
    "        \n",
    "        \n",
    "        \n",
    "        nodes_mess_1 = self.conv_1(nodeTypes, edge_index, edge_attr)\n",
    "        nodes_mess_1 = self.d_1(F.relu(nodes_mess_1))\n",
    "        \n",
    "        nodes_mess_1 = F.relu(self.conv_2(nodes_mess_1, edge_index, edge_attr))\n",
    "        \n",
    "        \n",
    "        attentions = scatter_softmax(torch.squeeze(self.attention_vector(nodes_mess_1)), bs)\n",
    "        \n",
    "        nodes_mess_1 = torch.unsqueeze(attentions,dim=1) * nodes_mess_1\n",
    "        \n",
    "        graph_emb = pyg_nn.global_add_pool(nodes_mess_1, bs)\n",
    "        \n",
    "        rtu = self.lin(graph_emb)\n",
    "        \n",
    "        return F.sigmoid(rtu)\n",
    "    \n",
    "    def getAttentions(self,nodeTypes,edge_index, edge_attr, bs):\n",
    "        \n",
    "        nodeTypes = self.emb_nodes(nodeTypes)\n",
    "        nodes_mess_1 = self.conv_1(nodeTypes, edge_index, edge_attr)\n",
    "        nodes_mess_1 = self.d_1(F.relu(nodes_mess_1))\n",
    "        \n",
    "        nodes_mess_1 = F.relu(self.conv_2(nodes_mess_1, edge_index, edge_attr))\n",
    "        \n",
    "        \n",
    "        attentions = scatter_softmax(torch.squeeze(self.attention_vector(nodes_mess_1)), bs)\n",
    "        \n",
    "        return attentions\n",
    "        "
   ]
  },
  {
   "cell_type": "markdown",
   "metadata": {},
   "source": [
    "# Training"
   ]
  },
  {
   "cell_type": "code",
   "execution_count": 71,
   "metadata": {},
   "outputs": [],
   "source": [
    "from torch_geometric.data import DataLoader\n",
    "train_loader = DataLoader(train, batch_size=32, num_workers = 5, shuffle=True)\n",
    "val_loader = DataLoader(val, batch_size=1, num_workers = 5, shuffle=True)"
   ]
  },
  {
   "cell_type": "code",
   "execution_count": 15,
   "metadata": {},
   "outputs": [],
   "source": [
    "def evaluation(model, loader):\n",
    "    model.eval()\n",
    "    count = 0.0\n",
    "    with torch.no_grad():\n",
    "        for data in loader:\n",
    "            pred = model(data.x.cuda(), data.edge_index.cuda(),\n",
    "          torch.squeeze(data.edge_attr.cuda(),dim=1),data.batch.cuda())\n",
    "            if pred[0].item() > 0.5:\n",
    "                pred = 1\n",
    "            else:\n",
    "                pred = 0\n",
    "            if pred == data.y.long().item():\n",
    "                count = count + 1\n",
    "    return count/len(loader)"
   ]
  },
  {
   "cell_type": "code",
   "execution_count": 39,
   "metadata": {
    "scrolled": true
   },
   "outputs": [
    {
     "name": "stderr",
     "output_type": "stream",
     "text": [
      "/home/antolin/anaconda3/lib/python3.8/site-packages/torch/nn/functional.py:1639: UserWarning: nn.functional.sigmoid is deprecated. Use torch.sigmoid instead.\n",
      "  warnings.warn(\"nn.functional.sigmoid is deprecated. Use torch.sigmoid instead.\")\n"
     ]
    },
    {
     "name": "stdout",
     "output_type": "stream",
     "text": [
      "Epoch 0 Loss 0.4895031899213791\n",
      "Eval 0.9454545454545454\n",
      "Epoch 1 Loss 0.3030615411698818\n",
      "Eval 0.9818181818181818\n",
      "Epoch 2 Loss 0.1776052014902234\n",
      "Eval 0.9818181818181818\n",
      "Epoch 3 Loss 0.14664837252348661\n",
      "Eval 0.9818181818181818\n",
      "Epoch 4 Loss 0.12768686283379793\n",
      "Eval 1.0\n",
      "Epoch 5 Loss 0.12687270483002067\n",
      "Eval 1.0\n",
      "Epoch 6 Loss 0.1126244105398655\n",
      "Eval 1.0\n",
      "Epoch 7 Loss 0.1062348005361855\n",
      "Eval 0.9818181818181818\n",
      "Epoch 8 Loss 0.10387372504919767\n",
      "Eval 0.9818181818181818\n",
      "Epoch 9 Loss 0.10398070886731148\n",
      "Eval 1.0\n",
      "Epoch 10 Loss 0.09625882259570062\n",
      "Eval 1.0\n",
      "Epoch 11 Loss 0.09696727618575096\n",
      "Eval 1.0\n",
      "Epoch 12 Loss 0.09078394481912255\n",
      "Eval 1.0\n",
      "Epoch 13 Loss 0.0904529350809753\n",
      "Eval 1.0\n",
      "Epoch 14 Loss 0.0807613474316895\n",
      "Eval 0.9818181818181818\n",
      "Epoch 15 Loss 0.08490354102104902\n",
      "Eval 1.0\n",
      "Epoch 16 Loss 0.08626751345582306\n",
      "Eval 1.0\n",
      "Epoch 17 Loss 0.08578318450599909\n",
      "Eval 1.0\n",
      "Epoch 18 Loss 0.07748268451541662\n",
      "Eval 1.0\n",
      "Epoch 19 Loss 0.07563338987529278\n",
      "Eval 1.0\n",
      "Epoch 20 Loss 0.06929029361344874\n",
      "Eval 1.0\n",
      "Epoch 21 Loss 0.07200543908402324\n",
      "Eval 1.0\n",
      "Epoch 22 Loss 0.06883698515594006\n",
      "Eval 1.0\n",
      "Epoch 23 Loss 0.08276103367097676\n",
      "Eval 1.0\n",
      "Epoch 24 Loss 0.06595584261231124\n",
      "Eval 1.0\n",
      "Epoch 25 Loss 0.07424157031346112\n",
      "Eval 1.0\n",
      "Epoch 26 Loss 0.0685645283665508\n",
      "Eval 1.0\n",
      "Epoch 27 Loss 0.06656328914687037\n",
      "Eval 1.0\n",
      "Epoch 28 Loss 0.06447025353554636\n",
      "Eval 1.0\n",
      "Epoch 29 Loss 0.06782573834061623\n",
      "Eval 1.0\n",
      "Epoch 30 Loss 0.06170486728660762\n",
      "Eval 1.0\n",
      "Epoch 31 Loss 0.06210076774004847\n",
      "Eval 1.0\n",
      "Epoch 32 Loss 0.05988461954984814\n",
      "Eval 1.0\n",
      "Epoch 33 Loss 0.057696786941960454\n",
      "Eval 1.0\n",
      "Epoch 34 Loss 0.06123975256923586\n",
      "Eval 1.0\n",
      "Epoch 35 Loss 0.062214013654738665\n",
      "Eval 1.0\n",
      "Epoch 36 Loss 0.06469170335913077\n",
      "Eval 1.0\n",
      "Epoch 37 Loss 0.07747450331225991\n",
      "Eval 1.0\n",
      "Epoch 38 Loss 0.06885890499688685\n",
      "Eval 1.0\n",
      "Epoch 39 Loss 0.06822639028541744\n",
      "Eval 1.0\n",
      "Epoch 40 Loss 0.06611053575761616\n",
      "Eval 1.0\n",
      "Epoch 41 Loss 0.06209414731711149\n",
      "Eval 1.0\n",
      "Epoch 42 Loss 0.07151064241770655\n",
      "Eval 1.0\n",
      "Epoch 43 Loss 0.07894015405327082\n",
      "Eval 1.0\n",
      "Epoch 44 Loss 0.060195484198629856\n",
      "Eval 1.0\n",
      "Epoch 45 Loss 0.0615491159260273\n",
      "Eval 1.0\n",
      "Epoch 46 Loss 0.059808957390487194\n",
      "Eval 1.0\n",
      "Epoch 47 Loss 0.06196371000260115\n",
      "Eval 1.0\n",
      "Epoch 48 Loss 0.058215411612764\n",
      "Eval 1.0\n",
      "Epoch 49 Loss 0.05708447250071913\n",
      "Eval 1.0\n",
      "Epoch 50 Loss 0.05781222996301949\n",
      "Eval 1.0\n",
      "Epoch 51 Loss 0.0582124600186944\n",
      "Eval 1.0\n",
      "Epoch 52 Loss 0.05683593568392098\n",
      "Eval 1.0\n",
      "Epoch 53 Loss 0.05610099178738892\n",
      "Eval 1.0\n",
      "Epoch 54 Loss 0.0551342386752367\n",
      "Eval 1.0\n"
     ]
    }
   ],
   "source": [
    "from nnUtils import EarlyStopping\n",
    "import os\n",
    "os.environ['CUDA_LAUNCH_BLOCKING'] = \"1\"\n",
    "\n",
    "model = GNN_MoRec(64,64,0.0).cuda()\n",
    "\n",
    "epochs = 200\n",
    "criterion = nn.BCELoss()\n",
    "\n",
    "opt = torch.optim.Adam(model.parameters(), lr=0.001)\n",
    "es = EarlyStopping(opt, model, modelType+'-'+generator+'-GNN',mode='max',patience=50)\n",
    "\n",
    "\n",
    "for e in range(epochs):\n",
    "    total_loss = 0.0\n",
    "    b = 1\n",
    "    model.train()\n",
    "    for data in train_loader:\n",
    "        \n",
    "        opt.zero_grad()\n",
    "        \n",
    "        pred = model(data.x.cuda(), data.edge_index.cuda(),\n",
    "          torch.squeeze(data.edge_attr.cuda(),dim=1),data.batch.cuda())\n",
    "        loss = criterion(torch.squeeze(pred), data.y.float().cuda())\n",
    "        total_loss += loss.item()\n",
    "        \n",
    "        loss.backward()\n",
    "        opt.step()\n",
    "        b = b + 1\n",
    "        \n",
    "    val_acc = evaluation(model, val_loader)\n",
    "    print('Epoch',e,'Loss',total_loss/b)\n",
    "    print('Eval',val_acc)\n",
    "    \n",
    "    if es.step(val_acc,e):\n",
    "        break"
   ]
  },
  {
   "cell_type": "code",
   "execution_count": 40,
   "metadata": {
    "scrolled": true
   },
   "outputs": [],
   "source": [
    "if e != 50:\n",
    "    model2 = GNN_MoRec(64,64,0.0).cuda()\n",
    "\n",
    "\n",
    "\n",
    "    checkpoint = torch.load(modelType+'-'+generator+'-GNN')\n",
    "    model2.load_state_dict(checkpoint['model_state_dict'])\n",
    "\n",
    "    epoch = checkpoint['epoch']\n",
    "    loss = checkpoint['loss']\n",
    "\n",
    "    model2.eval()\n",
    "else:\n",
    "    torch.save({\n",
    "            'epoch': 1,\n",
    "            'model_state_dict': model.state_dict(),\n",
    "            'optimizer_state_dict': 0,\n",
    "            'loss': 0,\n",
    "            }, modelType+'-'+generator+'-GNN')\n",
    "    model2=model\n"
   ]
  },
  {
   "cell_type": "markdown",
   "metadata": {},
   "source": [
    "Load model directly"
   ]
  },
  {
   "cell_type": "code",
   "execution_count": 72,
   "metadata": {},
   "outputs": [
    {
     "data": {
      "text/plain": [
       "GNN_MoRec(\n",
       "  (emb_nodes): Embedding(9, 64)\n",
       "  (conv_1): RGCNConv(64, 64, num_relations=8)\n",
       "  (conv_2): RGCNConv(64, 64, num_relations=8)\n",
       "  (d_1): Dropout(p=0.0, inplace=False)\n",
       "  (lin): Linear(in_features=64, out_features=1, bias=True)\n",
       "  (attention_vector): Linear(in_features=64, out_features=1, bias=False)\n",
       ")"
      ]
     },
     "execution_count": 72,
     "metadata": {},
     "output_type": "execute_result"
    }
   ],
   "source": [
    "model2 = GNN_MoRec(64,64,0.0).cuda()\n",
    "checkpoint = torch.load(modelType+'-'+generator+'-GNN')\n",
    "model2.load_state_dict(checkpoint['model_state_dict'])\n",
    "\n",
    "epoch = checkpoint['epoch']\n",
    "loss = checkpoint['loss']\n",
    "\n",
    "model2.eval()"
   ]
  },
  {
   "cell_type": "markdown",
   "metadata": {},
   "source": [
    "# Testing"
   ]
  },
  {
   "cell_type": "code",
   "execution_count": 73,
   "metadata": {},
   "outputs": [],
   "source": [
    "test_loader = DataLoader(test, batch_size=1, num_workers = 5, shuffle=True)"
   ]
  },
  {
   "cell_type": "code",
   "execution_count": 74,
   "metadata": {},
   "outputs": [
    {
     "name": "stdout",
     "output_type": "stream",
     "text": [
      "Acc 1.0\n"
     ]
    }
   ],
   "source": [
    "model2.eval()\n",
    "count = 0\n",
    "i0 = 0\n",
    "i1 = 0\n",
    "for data in test_loader:\n",
    "    \n",
    "    pred = model2(data.x.cuda(), data.edge_index.cuda(),\n",
    "          torch.squeeze(data.edge_attr,dim=1).cuda(),data.batch.cuda())\n",
    "    if pred[0].item() > 0.5:\n",
    "        pred = 1\n",
    "    else:\n",
    "        pred = 0\n",
    "    if pred == data.y.long().item():\n",
    "        count = count + 1\n",
    "    \n",
    "print('Acc', count/len(test_loader))"
   ]
  },
  {
   "cell_type": "markdown",
   "metadata": {},
   "source": [
    "Acc 0.956989247311828 <- VIATRA\n",
    "\n",
    "Acc 0.956989247311828 <- Alloy\n",
    "\n",
    "Acc 0.7634408602150538 <- RANDOMEMF\n",
    "\n",
    "Acc 1.0 <- Random"
   ]
  },
  {
   "cell_type": "code",
   "execution_count": 75,
   "metadata": {},
   "outputs": [
    {
     "name": "stdout",
     "output_type": "stream",
     "text": [
      "p-value 2.6147170013952424e-22\n"
     ]
    }
   ],
   "source": [
    "from C2ST import C2ST_pvalue\n",
    "\n",
    "acc =  count/len(test_loader)\n",
    "n_test = len(test_loader)\n",
    "print('p-value', C2ST_pvalue(acc,n_test))"
   ]
  },
  {
   "cell_type": "code",
   "execution_count": 76,
   "metadata": {},
   "outputs": [
    {
     "data": {
      "text/plain": [
       "93"
      ]
     },
     "execution_count": 76,
     "metadata": {},
     "output_type": "execute_result"
    }
   ],
   "source": [
    "n_test"
   ]
  },
  {
   "cell_type": "markdown",
   "metadata": {},
   "source": [
    "# Interpreting"
   ]
  },
  {
   "cell_type": "code",
   "execution_count": 23,
   "metadata": {},
   "outputs": [
    {
     "name": "stdout",
     "output_type": "stream",
     "text": [
      "----------------------------------------------------------------------------------------------------------------------------------------------------------------\n"
     ]
    },
    {
     "name": "stderr",
     "output_type": "stream",
     "text": [
      "/home/antolin/anaconda3/lib/python3.8/site-packages/torch/nn/functional.py:1639: UserWarning: nn.functional.sigmoid is deprecated. Use torch.sigmoid instead.\n",
      "  warnings.warn(\"nn.functional.sigmoid is deprecated. Use torch.sigmoid instead.\")\n"
     ]
    },
    {
     "name": "stdout",
     "output_type": "stream",
     "text": [
      "----------------------------------------------------------------------------------------------------------------------------------------------------------------\n"
     ]
    },
    {
     "name": "stderr",
     "output_type": "stream",
     "text": [
      "/home/antolin/anaconda3/lib/python3.8/site-packages/torch/nn/functional.py:1639: UserWarning: nn.functional.sigmoid is deprecated. Use torch.sigmoid instead.\n",
      "  warnings.warn(\"nn.functional.sigmoid is deprecated. Use torch.sigmoid instead.\")\n"
     ]
    },
    {
     "name": "stdout",
     "output_type": "stream",
     "text": [
      "----------------------------------------------------------------------------------------------------------------------------------------------------------------\n"
     ]
    },
    {
     "name": "stderr",
     "output_type": "stream",
     "text": [
      "/home/antolin/anaconda3/lib/python3.8/site-packages/torch/nn/functional.py:1639: UserWarning: nn.functional.sigmoid is deprecated. Use torch.sigmoid instead.\n",
      "  warnings.warn(\"nn.functional.sigmoid is deprecated. Use torch.sigmoid instead.\")\n"
     ]
    },
    {
     "name": "stdout",
     "output_type": "stream",
     "text": [
      "----------------------------------------------------------------------------------------------------------------------------------------------------------------\n"
     ]
    },
    {
     "name": "stderr",
     "output_type": "stream",
     "text": [
      "/home/antolin/anaconda3/lib/python3.8/site-packages/torch/nn/functional.py:1639: UserWarning: nn.functional.sigmoid is deprecated. Use torch.sigmoid instead.\n",
      "  warnings.warn(\"nn.functional.sigmoid is deprecated. Use torch.sigmoid instead.\")\n"
     ]
    },
    {
     "name": "stdout",
     "output_type": "stream",
     "text": [
      "----------------------------------------------------------------------------------------------------------------------------------------------------------------\n"
     ]
    },
    {
     "name": "stderr",
     "output_type": "stream",
     "text": [
      "/home/antolin/anaconda3/lib/python3.8/site-packages/torch/nn/functional.py:1639: UserWarning: nn.functional.sigmoid is deprecated. Use torch.sigmoid instead.\n",
      "  warnings.warn(\"nn.functional.sigmoid is deprecated. Use torch.sigmoid instead.\")\n"
     ]
    },
    {
     "name": "stdout",
     "output_type": "stream",
     "text": [
      "----------------------------------------------------------------------------------------------------------------------------------------------------------------\n"
     ]
    },
    {
     "name": "stderr",
     "output_type": "stream",
     "text": [
      "/home/antolin/anaconda3/lib/python3.8/site-packages/torch/nn/functional.py:1639: UserWarning: nn.functional.sigmoid is deprecated. Use torch.sigmoid instead.\n",
      "  warnings.warn(\"nn.functional.sigmoid is deprecated. Use torch.sigmoid instead.\")\n"
     ]
    },
    {
     "name": "stdout",
     "output_type": "stream",
     "text": [
      "----------------------------------------------------------------------------------------------------------------------------------------------------------------\n"
     ]
    },
    {
     "name": "stderr",
     "output_type": "stream",
     "text": [
      "/home/antolin/anaconda3/lib/python3.8/site-packages/torch/nn/functional.py:1639: UserWarning: nn.functional.sigmoid is deprecated. Use torch.sigmoid instead.\n",
      "  warnings.warn(\"nn.functional.sigmoid is deprecated. Use torch.sigmoid instead.\")\n"
     ]
    },
    {
     "name": "stdout",
     "output_type": "stream",
     "text": [
      "----------------------------------------------------------------------------------------------------------------------------------------------------------------\n"
     ]
    },
    {
     "name": "stderr",
     "output_type": "stream",
     "text": [
      "/home/antolin/anaconda3/lib/python3.8/site-packages/torch/nn/functional.py:1639: UserWarning: nn.functional.sigmoid is deprecated. Use torch.sigmoid instead.\n",
      "  warnings.warn(\"nn.functional.sigmoid is deprecated. Use torch.sigmoid instead.\")\n"
     ]
    },
    {
     "name": "stdout",
     "output_type": "stream",
     "text": [
      "----------------------------------------------------------------------------------------------------------------------------------------------------------------\n"
     ]
    },
    {
     "name": "stderr",
     "output_type": "stream",
     "text": [
      "/home/antolin/anaconda3/lib/python3.8/site-packages/torch/nn/functional.py:1639: UserWarning: nn.functional.sigmoid is deprecated. Use torch.sigmoid instead.\n",
      "  warnings.warn(\"nn.functional.sigmoid is deprecated. Use torch.sigmoid instead.\")\n"
     ]
    },
    {
     "name": "stdout",
     "output_type": "stream",
     "text": [
      "----------------------------------------------------------------------------------------------------------------------------------------------------------------\n"
     ]
    },
    {
     "name": "stderr",
     "output_type": "stream",
     "text": [
      "/home/antolin/anaconda3/lib/python3.8/site-packages/torch/nn/functional.py:1639: UserWarning: nn.functional.sigmoid is deprecated. Use torch.sigmoid instead.\n",
      "  warnings.warn(\"nn.functional.sigmoid is deprecated. Use torch.sigmoid instead.\")\n"
     ]
    },
    {
     "name": "stdout",
     "output_type": "stream",
     "text": [
      "----------------------------------------------------------------------------------------------------------------------------------------------------------------\n"
     ]
    },
    {
     "name": "stderr",
     "output_type": "stream",
     "text": [
      "/home/antolin/anaconda3/lib/python3.8/site-packages/torch/nn/functional.py:1639: UserWarning: nn.functional.sigmoid is deprecated. Use torch.sigmoid instead.\n",
      "  warnings.warn(\"nn.functional.sigmoid is deprecated. Use torch.sigmoid instead.\")\n"
     ]
    },
    {
     "name": "stdout",
     "output_type": "stream",
     "text": [
      "----------------------------------------------------------------------------------------------------------------------------------------------------------------\n"
     ]
    },
    {
     "name": "stderr",
     "output_type": "stream",
     "text": [
      "/home/antolin/anaconda3/lib/python3.8/site-packages/torch/nn/functional.py:1639: UserWarning: nn.functional.sigmoid is deprecated. Use torch.sigmoid instead.\n",
      "  warnings.warn(\"nn.functional.sigmoid is deprecated. Use torch.sigmoid instead.\")\n"
     ]
    },
    {
     "name": "stdout",
     "output_type": "stream",
     "text": [
      "----------------------------------------------------------------------------------------------------------------------------------------------------------------\n"
     ]
    },
    {
     "name": "stderr",
     "output_type": "stream",
     "text": [
      "/home/antolin/anaconda3/lib/python3.8/site-packages/torch/nn/functional.py:1639: UserWarning: nn.functional.sigmoid is deprecated. Use torch.sigmoid instead.\n",
      "  warnings.warn(\"nn.functional.sigmoid is deprecated. Use torch.sigmoid instead.\")\n"
     ]
    },
    {
     "name": "stdout",
     "output_type": "stream",
     "text": [
      "----------------------------------------------------------------------------------------------------------------------------------------------------------------\n"
     ]
    },
    {
     "name": "stderr",
     "output_type": "stream",
     "text": [
      "/home/antolin/anaconda3/lib/python3.8/site-packages/torch/nn/functional.py:1639: UserWarning: nn.functional.sigmoid is deprecated. Use torch.sigmoid instead.\n",
      "  warnings.warn(\"nn.functional.sigmoid is deprecated. Use torch.sigmoid instead.\")\n",
      "/home/antolin/anaconda3/lib/python3.8/site-packages/torch/nn/functional.py:1639: UserWarning: nn.functional.sigmoid is deprecated. Use torch.sigmoid instead.\n",
      "  warnings.warn(\"nn.functional.sigmoid is deprecated. Use torch.sigmoid instead.\")\n"
     ]
    },
    {
     "name": "stdout",
     "output_type": "stream",
     "text": [
      "----------------------------------------------------------------------------------------------------------------------------------------------------------------\n",
      "----------------------------------------------------------------------------------------------------------------------------------------------------------------\n"
     ]
    },
    {
     "name": "stderr",
     "output_type": "stream",
     "text": [
      "/home/antolin/anaconda3/lib/python3.8/site-packages/torch/nn/functional.py:1639: UserWarning: nn.functional.sigmoid is deprecated. Use torch.sigmoid instead.\n",
      "  warnings.warn(\"nn.functional.sigmoid is deprecated. Use torch.sigmoid instead.\")\n"
     ]
    },
    {
     "name": "stdout",
     "output_type": "stream",
     "text": [
      "----------------------------------------------------------------------------------------------------------------------------------------------------------------\n"
     ]
    },
    {
     "name": "stderr",
     "output_type": "stream",
     "text": [
      "/home/antolin/anaconda3/lib/python3.8/site-packages/torch/nn/functional.py:1639: UserWarning: nn.functional.sigmoid is deprecated. Use torch.sigmoid instead.\n",
      "  warnings.warn(\"nn.functional.sigmoid is deprecated. Use torch.sigmoid instead.\")\n"
     ]
    },
    {
     "name": "stdout",
     "output_type": "stream",
     "text": [
      "----------------------------------------------------------------------------------------------------------------------------------------------------------------\n"
     ]
    },
    {
     "name": "stderr",
     "output_type": "stream",
     "text": [
      "/home/antolin/anaconda3/lib/python3.8/site-packages/torch/nn/functional.py:1639: UserWarning: nn.functional.sigmoid is deprecated. Use torch.sigmoid instead.\n",
      "  warnings.warn(\"nn.functional.sigmoid is deprecated. Use torch.sigmoid instead.\")\n"
     ]
    },
    {
     "name": "stdout",
     "output_type": "stream",
     "text": [
      "----------------------------------------------------------------------------------------------------------------------------------------------------------------\n"
     ]
    },
    {
     "name": "stderr",
     "output_type": "stream",
     "text": [
      "/home/antolin/anaconda3/lib/python3.8/site-packages/torch/nn/functional.py:1639: UserWarning: nn.functional.sigmoid is deprecated. Use torch.sigmoid instead.\n",
      "  warnings.warn(\"nn.functional.sigmoid is deprecated. Use torch.sigmoid instead.\")\n"
     ]
    },
    {
     "name": "stdout",
     "output_type": "stream",
     "text": [
      "----------------------------------------------------------------------------------------------------------------------------------------------------------------\n"
     ]
    },
    {
     "name": "stderr",
     "output_type": "stream",
     "text": [
      "/home/antolin/anaconda3/lib/python3.8/site-packages/torch/nn/functional.py:1639: UserWarning: nn.functional.sigmoid is deprecated. Use torch.sigmoid instead.\n",
      "  warnings.warn(\"nn.functional.sigmoid is deprecated. Use torch.sigmoid instead.\")\n"
     ]
    },
    {
     "name": "stdout",
     "output_type": "stream",
     "text": [
      "----------------------------------------------------------------------------------------------------------------------------------------------------------------\n"
     ]
    },
    {
     "name": "stderr",
     "output_type": "stream",
     "text": [
      "/home/antolin/anaconda3/lib/python3.8/site-packages/torch/nn/functional.py:1639: UserWarning: nn.functional.sigmoid is deprecated. Use torch.sigmoid instead.\n",
      "  warnings.warn(\"nn.functional.sigmoid is deprecated. Use torch.sigmoid instead.\")\n"
     ]
    },
    {
     "name": "stdout",
     "output_type": "stream",
     "text": [
      "----------------------------------------------------------------------------------------------------------------------------------------------------------------\n"
     ]
    }
   ],
   "source": [
    "from interpretation import heatMap, plot_graph_attention, importantSubgraph, getMapAttention\n",
    "i = 0\n",
    "for data in test:\n",
    "    G = data2graph(data,vocab_nodes,vocab_edges)\n",
    "    batch = torch.zeros(len(G)).long()\n",
    "    atts = model2.getAttentions(data.x.cuda(), data.edge_index.cuda(),\n",
    "          torch.squeeze(data.edge_attr.cuda(),dim=1),batch.cuda())\n",
    "    map_colors = getMapAttention(G,atts)\n",
    "    \n",
    "    pred = model2(data.x.cuda(), data.edge_index.cuda(),\n",
    "          torch.squeeze(data.edge_attr.cuda(),dim=1),batch.cuda())\n",
    "    if pred[0].item() < 0.1 and data.y.item() == 0:\n",
    "        #plot_graph_attention(G,map_colors)\n",
    "        #plot_graph_attention(importantSubgraph(G, atts.detach().cpu().numpy(), 0.2, 2),map_colors)\n",
    "        heatMap(G,atts,str(i),'./interpretation/'+modelType+'/'+generator+'/')\n",
    "        heatMap(importantSubgraph(G, atts.detach().cpu().numpy(), 0.2, 2),atts,str(i),'./interpretation/'+modelType+'/'+generator+'/subgraph/')\n",
    "        i = i + 1\n",
    "        print('--'*80)"
   ]
  }
 ],
 "metadata": {
  "kernelspec": {
   "display_name": "Python 3",
   "language": "python",
   "name": "python3"
  },
  "language_info": {
   "codemirror_mode": {
    "name": "ipython",
    "version": 3
   },
   "file_extension": ".py",
   "mimetype": "text/x-python",
   "name": "python",
   "nbconvert_exporter": "python",
   "pygments_lexer": "ipython3",
   "version": "3.8.3"
  }
 },
 "nbformat": 4,
 "nbformat_minor": 4
}
