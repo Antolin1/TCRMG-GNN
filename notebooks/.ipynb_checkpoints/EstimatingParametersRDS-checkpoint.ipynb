{
 "cells": [
  {
   "cell_type": "markdown",
   "metadata": {},
   "source": [
    "# Importing some utilities"
   ]
  },
  {
   "cell_type": "code",
   "execution_count": 1,
   "metadata": {},
   "outputs": [],
   "source": [
    "import glob\n",
    "import sys\n",
    "sys.path.append('../python/')\n",
    "from json2graph import jsonFile2graph\n",
    "from graphUtils import plot_graph\n",
    "from statsUtils import whichFitsBetter"
   ]
  },
  {
   "cell_type": "markdown",
   "metadata": {},
   "source": [
    "# Loading $R_{II}$"
   ]
  },
  {
   "cell_type": "code",
   "execution_count": 4,
   "metadata": {},
   "outputs": [],
   "source": [
    "import networkx as nx\n",
    "import glob\n",
    "import json\n",
    "import os\n",
    "\n",
    "files = glob.glob(\"../realGraphs/RDS/R2/*.json\")\n",
    "\n",
    "Gs = []\n",
    "for file in files:\n",
    "    Gs.append(jsonFile2graph(file))\n"
   ]
  },
  {
   "cell_type": "markdown",
   "metadata": {},
   "source": [
    "# Random EMF"
   ]
  },
  {
   "cell_type": "markdown",
   "metadata": {},
   "source": [
    "For each rule in RandomEMF, depending on the type of rule, we estimate its parameters. More concretely, for shapes we use the function `whichFitsBetter` that selects the best distribuntion by using maximum likeihood. For priorities in alternative rules, the procedure described in the paper is done and it is based on counting each different alternative in the set $R_{II}$."
   ]
  },
  {
   "cell_type": "markdown",
   "metadata": {},
   "source": [
    "## Number of tables per database"
   ]
  },
  {
   "cell_type": "markdown",
   "metadata": {},
   "source": [
    "For the rule:\n",
    "\n",
    "```\n",
    "Root : Database ->\n",
    "\t\telements += Tables(self)#Distribution(parameters);\n",
    "\t;\n",
    "```"
   ]
  },
  {
   "cell_type": "code",
   "execution_count": 5,
   "metadata": {},
   "outputs": [
    {
     "data": {
      "text/plain": [
       "(array([0.004, 0.064, 0.172, 0.1  , 0.116, 0.132, 0.092, 0.048, 0.096,\n",
       "        0.048, 0.04 , 0.052, 0.008, 0.   , 0.004, 0.   , 0.004, 0.012,\n",
       "        0.   , 0.004, 0.   , 0.   , 0.   , 0.   , 0.   , 0.   , 0.   ,\n",
       "        0.   , 0.   , 0.   , 0.   , 0.   , 0.   , 0.004, 0.   , 0.   ,\n",
       "        0.   , 0.   , 0.   , 0.   , 0.   , 0.   , 0.   , 0.   , 0.   ,\n",
       "        0.   , 0.   , 0.   , 0.   , 0.   , 0.   , 0.   , 0.   , 0.   ,\n",
       "        0.   , 0.   , 0.   , 0.   , 0.   , 0.   , 0.   , 0.   , 0.   ,\n",
       "        0.   , 0.   , 0.   , 0.   , 0.   , 0.   , 0.   , 0.   , 0.   ,\n",
       "        0.   , 0.   , 0.   , 0.   , 0.   , 0.   , 0.   , 0.   , 0.   ,\n",
       "        0.   , 0.   , 0.   , 0.   , 0.   , 0.   , 0.   , 0.   , 0.   ,\n",
       "        0.   , 0.   , 0.   , 0.   , 0.   , 0.   , 0.   , 0.   , 0.   ]),\n",
       " array([ 0,  1,  2,  3,  4,  5,  6,  7,  8,  9, 10, 11, 12, 13, 14, 15, 16,\n",
       "        17, 18, 19, 20, 21, 22, 23, 24, 25, 26, 27, 28, 29, 30, 31, 32, 33,\n",
       "        34, 35, 36, 37, 38, 39, 40, 41, 42, 43, 44, 45, 46, 47, 48, 49, 50,\n",
       "        51, 52, 53, 54, 55, 56, 57, 58, 59, 60, 61, 62, 63, 64, 65, 66, 67,\n",
       "        68, 69, 70, 71, 72, 73, 74, 75, 76, 77, 78, 79, 80, 81, 82, 83, 84,\n",
       "        85, 86, 87, 88, 89, 90, 91, 92, 93, 94, 95, 96, 97, 98, 99]),\n",
       " <a list of 99 Patch objects>)"
      ]
     },
     "execution_count": 5,
     "metadata": {},
     "output_type": "execute_result"
    },
    {
     "data": {
      "image/png": "[encoded data removed]",
      "text/plain": [
       "<Figure size 432x288 with 1 Axes>"
      ]
     },
     "metadata": {
      "needs_background": "light"
     },
     "output_type": "display_data"
    }
   ],
   "source": [
    "import numpy as np\n",
    "import matplotlib.pyplot as plt\n",
    "\n",
    "numberSubvertex = []\n",
    "for G in Gs:\n",
    "    for n in G:\n",
    "        if G.nodes[n]['type'] =='Database':\n",
    "            cont = 0\n",
    "            for e in G[n]:\n",
    "                if (G.nodes[e]['type'] == 'Table'):\n",
    "                    cont = cont + 1\n",
    "            numberSubvertex.append(cont)\n",
    "            \n",
    "bins = np.arange(0, 100, 1)\n",
    "plt.hist(numberSubvertex, bins = bins, alpha=0.5, density = True)"
   ]
  },
  {
   "cell_type": "code",
   "execution_count": 6,
   "metadata": {},
   "outputs": [
    {
     "name": "stdout",
     "output_type": "stream",
     "text": [
      "Optimization terminated successfully.\n",
      "         Current function value: 2.577193\n",
      "         Iterations: 38\n",
      "         Function evaluations: 72\n",
      "Optimization terminated successfully.\n",
      "         Current function value: 2.757858\n",
      "         Iterations: 24\n",
      "         Function evaluations: 49\n",
      "Optimization terminated successfully.\n",
      "         Current function value: 2.833068\n",
      "         Iterations: 13\n",
      "         Function evaluations: 26\n",
      "{'dis': 'nbinom', 'params': (4.0, 0.4356815292147317)}\n"
     ]
    }
   ],
   "source": [
    "best = whichFitsBetter(numberSubvertex)\n",
    "print(best)\n",
    "#print(r,p)\n",
    "#print(best)"
   ]
  },
  {
   "cell_type": "code",
   "execution_count": 7,
   "metadata": {},
   "outputs": [
    {
     "data": {
      "image/png": "[encoded data removed]",
      "text/plain": [
       "<Figure size 432x288 with 1 Axes>"
      ]
     },
     "metadata": {
      "needs_background": "light"
     },
     "output_type": "display_data"
    }
   ],
   "source": [
    "import numpy as np\n",
    "import matplotlib.pyplot as plt\n",
    "from scipy.special import factorial\n",
    "from scipy.stats import nbinom\n",
    "from scipy.stats import poisson\n",
    "\n",
    "\n",
    "t = np.arange(0, 50, 1)\n",
    "d = nbinom.pmf(t, 4.0, 0.435681, 0)\n",
    "#np.exp(-np.mean(numberClassifiers))*np.power(np.mean(numberClassifiers), t)/factorial(t)\n",
    "plt.hist(numberSubvertex, bins = bins, alpha=0.5, density = True)\n",
    "plt.plot(t, d, '-')\n",
    "plt.show()"
   ]
  },
  {
   "cell_type": "markdown",
   "metadata": {},
   "source": [
    "## Columns per table"
   ]
  },
  {
   "cell_type": "markdown",
   "metadata": {},
   "source": [
    "For the rule:\n",
    "```\n",
    "Tables (Database d) : Table -> \n",
    "\t\tcolumns += Columns(d)#Distribution(parameters);\n",
    "\t;\n",
    "```"
   ]
  },
  {
   "cell_type": "code",
   "execution_count": 8,
   "metadata": {
    "scrolled": true
   },
   "outputs": [
    {
     "data": {
      "text/plain": [
       "(array([0.06414825, 0.05844619, 0.17605132, 0.17248753, 0.13827512,\n",
       "        0.1147541 , 0.07056308, 0.04561654, 0.03136137, 0.02779758,\n",
       "        0.02637206, 0.0171062 , 0.01069138, 0.01568068, 0.00926586,\n",
       "        0.00427655, 0.00285103, 0.00285103, 0.        , 0.00142552,\n",
       "        0.00142552, 0.00142552, 0.        , 0.00498931, 0.        ,\n",
       "        0.        , 0.00071276, 0.        , 0.        , 0.        ,\n",
       "        0.        , 0.        , 0.        , 0.        , 0.        ,\n",
       "        0.        , 0.        , 0.        , 0.        , 0.        ,\n",
       "        0.        , 0.        , 0.        , 0.        , 0.        ,\n",
       "        0.00071276, 0.        , 0.        , 0.        , 0.        ,\n",
       "        0.        , 0.        , 0.        , 0.        , 0.        ,\n",
       "        0.        , 0.        , 0.        , 0.        , 0.        ,\n",
       "        0.        , 0.00071276, 0.        , 0.        , 0.        ,\n",
       "        0.        , 0.        , 0.        , 0.        , 0.        ,\n",
       "        0.        , 0.        , 0.        , 0.        , 0.        ,\n",
       "        0.        , 0.        , 0.        , 0.        , 0.        ,\n",
       "        0.        , 0.        , 0.        , 0.        , 0.        ,\n",
       "        0.        , 0.        , 0.        , 0.        , 0.        ,\n",
       "        0.        , 0.        , 0.        , 0.        , 0.        ,\n",
       "        0.        , 0.        , 0.        , 0.        ]),\n",
       " array([ 0,  1,  2,  3,  4,  5,  6,  7,  8,  9, 10, 11, 12, 13, 14, 15, 16,\n",
       "        17, 18, 19, 20, 21, 22, 23, 24, 25, 26, 27, 28, 29, 30, 31, 32, 33,\n",
       "        34, 35, 36, 37, 38, 39, 40, 41, 42, 43, 44, 45, 46, 47, 48, 49, 50,\n",
       "        51, 52, 53, 54, 55, 56, 57, 58, 59, 60, 61, 62, 63, 64, 65, 66, 67,\n",
       "        68, 69, 70, 71, 72, 73, 74, 75, 76, 77, 78, 79, 80, 81, 82, 83, 84,\n",
       "        85, 86, 87, 88, 89, 90, 91, 92, 93, 94, 95, 96, 97, 98, 99]),\n",
       " <a list of 99 Patch objects>)"
      ]
     },
     "execution_count": 8,
     "metadata": {},
     "output_type": "execute_result"
    },
    {
     "data": {
      "image/png": "[encoded data removed]",
      "text/plain": [
       "<Figure size 432x288 with 1 Axes>"
      ]
     },
     "metadata": {
      "needs_background": "light"
     },
     "output_type": "display_data"
    }
   ],
   "source": [
    "numberSubvertex = []\n",
    "for G in Gs:\n",
    "    for n in G:\n",
    "        if G.nodes[n]['type'] =='Table':\n",
    "            cont = 0\n",
    "            for e in G[n]:\n",
    "                if (G.nodes[e]['type'] == 'Column'):\n",
    "                    cont = cont + 1\n",
    "            numberSubvertex.append(cont)\n",
    "            \n",
    "bins = np.arange(0, 100, 1)\n",
    "plt.hist(numberSubvertex, bins = bins, alpha=0.5, density = True)"
   ]
  },
  {
   "cell_type": "code",
   "execution_count": 9,
   "metadata": {},
   "outputs": [
    {
     "name": "stdout",
     "output_type": "stream",
     "text": [
      "Optimization terminated successfully.\n",
      "         Current function value: 2.532311\n",
      "         Iterations: 36\n",
      "         Function evaluations: 72\n",
      "Optimization terminated successfully.\n",
      "         Current function value: 2.830437\n",
      "         Iterations: 25\n",
      "         Function evaluations: 51\n",
      "Optimization terminated successfully.\n",
      "         Current function value: 2.954411\n",
      "         Iterations: 13\n",
      "         Function evaluations: 26\n",
      "{'dis': 'nbinom', 'params': (3.0, 0.3630784400563586)}\n"
     ]
    }
   ],
   "source": [
    "best = whichFitsBetter(numberSubvertex)\n",
    "print(best)"
   ]
  },
  {
   "cell_type": "code",
   "execution_count": 10,
   "metadata": {},
   "outputs": [
    {
     "data": {
      "image/png": "[encoded data removed]",
      "text/plain": [
       "<Figure size 432x288 with 1 Axes>"
      ]
     },
     "metadata": {
      "needs_background": "light"
     },
     "output_type": "display_data"
    }
   ],
   "source": [
    "t = np.arange(0, 50, 1)\n",
    "d = nbinom.pmf(t, 3, 0.3630, 0)\n",
    "#np.exp(-np.mean(numberClassifiers))*np.power(np.mean(numberClassifiers), t)/factorial(t)\n",
    "plt.hist(numberSubvertex, bins = bins, alpha=0.5, density = True)\n",
    "plt.plot(t, d, '-')\n",
    "plt.show()"
   ]
  },
  {
   "cell_type": "markdown",
   "metadata": {},
   "source": [
    "## Indexes per table"
   ]
  },
  {
   "cell_type": "markdown",
   "metadata": {},
   "source": [
    "For the rule:\n",
    "```\n",
    "Tables (Database d) : Table -> \n",
    "\t\tindexes += Indexx(self)#Distribution(parameters);\n",
    "\t;\n",
    "```"
   ]
  },
  {
   "cell_type": "code",
   "execution_count": 11,
   "metadata": {},
   "outputs": [
    {
     "data": {
      "text/plain": [
       "(array([0.98574483, 0.01140413, 0.00285103, 0.        , 0.        ,\n",
       "        0.        , 0.        , 0.        , 0.        ]),\n",
       " array([0, 1, 2, 3, 4, 5, 6, 7, 8, 9]),\n",
       " <a list of 9 Patch objects>)"
      ]
     },
     "execution_count": 11,
     "metadata": {},
     "output_type": "execute_result"
    },
    {
     "data": {
      "image/png": "[encoded data removed]",
      "text/plain": [
       "<Figure size 432x288 with 1 Axes>"
      ]
     },
     "metadata": {
      "needs_background": "light"
     },
     "output_type": "display_data"
    }
   ],
   "source": [
    "numberSubvertex = []\n",
    "for G in Gs:\n",
    "    for n in G:\n",
    "        if G.nodes[n]['type'] =='Table':\n",
    "            cont = 0\n",
    "            for e in G[n]:\n",
    "                if (G.nodes[e]['type'] == 'Index'):\n",
    "                    cont = cont + 1\n",
    "            numberSubvertex.append(cont)\n",
    "            \n",
    "bins = np.arange(0, 10, 1)\n",
    "plt.hist(numberSubvertex, bins = bins, alpha=0.5, density = True)"
   ]
  },
  {
   "cell_type": "code",
   "execution_count": 12,
   "metadata": {},
   "outputs": [
    {
     "name": "stdout",
     "output_type": "stream",
     "text": [
      "Optimization terminated successfully.\n",
      "         Current function value: 0.082609\n",
      "         Iterations: 28\n",
      "         Function evaluations: 54\n",
      "Optimization terminated successfully.\n",
      "         Current function value: -0.477834\n",
      "         Iterations: 12\n",
      "         Function evaluations: 25\n",
      "Optimization terminated successfully.\n",
      "         Current function value: 0.088676\n",
      "         Iterations: 5\n",
      "         Function evaluations: 10\n",
      "{'dis': 'norm', 'params': (0.017106200997861726, 0.15005214388528315)}\n"
     ]
    }
   ],
   "source": [
    "best = whichFitsBetter(numberSubvertex)\n",
    "print(best)"
   ]
  },
  {
   "cell_type": "markdown",
   "metadata": {},
   "source": [
    "## Frefs per Colum"
   ]
  },
  {
   "cell_type": "markdown",
   "metadata": {},
   "source": [
    "For the rule:\n",
    "```\n",
    "Columns (Database d): Column -> \n",
    "\t\tforeignReferences += if (d.elements.filter[it instanceof Table].\n",
    "\t\t\tmap[it as Table].flatMap[it.columns].size >= 1\n",
    "\t\t) \n",
    "\t\tReferenceF(d, self)#Distribution(parameters)\n",
    "\t;\n",
    "```"
   ]
  },
  {
   "cell_type": "code",
   "execution_count": 23,
   "metadata": {},
   "outputs": [
    {
     "data": {
      "text/plain": [
       "(array([8.58365164e-01, 1.36745607e-01, 4.12528648e-03, 4.58365164e-04,\n",
       "        3.05576776e-04, 0.00000000e+00, 0.00000000e+00, 0.00000000e+00,\n",
       "        0.00000000e+00]),\n",
       " array([0, 1, 2, 3, 4, 5, 6, 7, 8, 9]),\n",
       " <a list of 9 Patch objects>)"
      ]
     },
     "execution_count": 23,
     "metadata": {},
     "output_type": "execute_result"
    },
    {
     "data": {
      "image/png": "[encoded data removed]",
      "text/plain": [
       "<Figure size 432x288 with 1 Axes>"
      ]
     },
     "metadata": {
      "needs_background": "light"
     },
     "output_type": "display_data"
    }
   ],
   "source": [
    "number = []\n",
    "for G in Gs:\n",
    "    for n in G:\n",
    "        if (G.nodes[n]['type'] == 'Column'):\n",
    "            cont = 0\n",
    "            for e in G[n]:\n",
    "                for e2 in G[n][e]:\n",
    "                     if (G[n][e][e2]['type'] == 'foreignReferences'):\n",
    "                        cont = cont + 1\n",
    "            number.append(cont)\n",
    "bins = np.arange(0, 10, 1)\n",
    "plt.hist(number, bins = bins, alpha=0.5, density = True)"
   ]
  },
  {
   "cell_type": "code",
   "execution_count": 18,
   "metadata": {},
   "outputs": [
    {
     "name": "stdout",
     "output_type": "stream",
     "text": [
      "Warning: Maximum number of function evaluations has been exceeded.\n",
      "Optimization terminated successfully.\n",
      "         Current function value: 0.437584\n",
      "         Iterations: 16\n",
      "         Function evaluations: 33\n",
      "Optimization terminated successfully.\n",
      "         Current function value: 0.434635\n",
      "         Iterations: 8\n",
      "         Function evaluations: 16\n",
      "{'dis': 'poisson', 'params': 0.14759358288770053}\n"
     ]
    },
    {
     "name": "stderr",
     "output_type": "stream",
     "text": [
      "/home/antolin/anaconda3/lib/python3.8/site-packages/statsmodels/base/model.py:547: HessianInversionWarning: Inverting hessian failed, no bse or cov_params available\n",
      "  warn('Inverting hessian failed, no bse or cov_params '\n",
      "/home/antolin/anaconda3/lib/python3.8/site-packages/statsmodels/base/model.py:567: ConvergenceWarning: Maximum Likelihood optimization failed to converge. Check mle_retvals\n",
      "  warn(\"Maximum Likelihood optimization failed to converge. \"\n"
     ]
    }
   ],
   "source": [
    "best = whichFitsBetter(number)\n",
    "print(best)"
   ]
  },
  {
   "cell_type": "markdown",
   "metadata": {},
   "source": [
    "## Prefs per column"
   ]
  },
  {
   "cell_type": "markdown",
   "metadata": {},
   "source": [
    "For the rule:\n",
    "```\n",
    "Columns (Database d): Column -> \n",
    "\t\tprimaryReferences += if (d.elements.filter[it instanceof Table].\n",
    "\t\t\tmap[it as Table].flatMap[it.columns].size >= 1\n",
    "\t\t) ReferenceP(d, self)#Distribution(parameters)\n",
    "\t;\n",
    "```"
   ]
  },
  {
   "cell_type": "code",
   "execution_count": 26,
   "metadata": {},
   "outputs": [
    {
     "data": {
      "text/plain": [
       "(array([8.89533995e-01, 8.67838044e-02, 1.43621085e-02, 7.02826585e-03,\n",
       "        1.22230710e-03, 4.58365164e-04, 4.58365164e-04, 1.52788388e-04,\n",
       "        0.00000000e+00]),\n",
       " array([0, 1, 2, 3, 4, 5, 6, 7, 8, 9]),\n",
       " <a list of 9 Patch objects>)"
      ]
     },
     "execution_count": 26,
     "metadata": {},
     "output_type": "execute_result"
    },
    {
     "data": {
      "image/png": "[encoded data removed]",
      "text/plain": [
       "<Figure size 432x288 with 1 Axes>"
      ]
     },
     "metadata": {
      "needs_background": "light"
     },
     "output_type": "display_data"
    }
   ],
   "source": [
    "number = []\n",
    "for G in Gs:\n",
    "    for n in G:\n",
    "        if (G.nodes[n]['type'] == 'Column'):\n",
    "            cont = 0\n",
    "            for e in G[n]:\n",
    "                for e2 in G[n][e]:\n",
    "                     if (G[n][e][e2]['type'] == 'primaryReferences'):\n",
    "                        cont = cont + 1\n",
    "            number.append(cont)\n",
    "bins = np.arange(0, 10, 1)\n",
    "plt.hist(number, bins = bins, alpha=0.5, density = True)"
   ]
  },
  {
   "cell_type": "code",
   "execution_count": 20,
   "metadata": {},
   "outputs": [
    {
     "name": "stdout",
     "output_type": "stream",
     "text": [
      "Optimization terminated successfully.\n",
      "         Current function value: 0.429944\n",
      "         Iterations: 23\n",
      "         Function evaluations: 45\n",
      "Optimization terminated successfully.\n",
      "         Current function value: 0.706850\n",
      "         Iterations: 17\n",
      "         Function evaluations: 35\n",
      "Optimization terminated successfully.\n",
      "         Current function value: 0.462929\n",
      "         Iterations: 8\n",
      "         Function evaluations: 16\n",
      "{'dis': 'poisson', 'params': 0.14759358288770053}\n"
     ]
    }
   ],
   "source": [
    "best = whichFitsBetter(number)\n",
    "print(best)"
   ]
  },
  {
   "cell_type": "markdown",
   "metadata": {},
   "source": [
    "## IndexColumns"
   ]
  },
  {
   "cell_type": "markdown",
   "metadata": {},
   "source": [
    "For the rule:\n",
    "```\n",
    "Indexx (Table t) : Index->\n",
    "\t\tindexColumns += IndexColumnss(t)#Distribution(parameters)\n",
    "\t;\n",
    "```"
   ]
  },
  {
   "cell_type": "code",
   "execution_count": 28,
   "metadata": {},
   "outputs": [
    {
     "data": {
      "text/plain": [
       "(array([0.45833333, 0.29166667, 0.16666667, 0.08333333, 0.        ,\n",
       "        0.        , 0.        , 0.        , 0.        ]),\n",
       " array([0, 1, 2, 3, 4, 5, 6, 7, 8, 9]),\n",
       " <a list of 9 Patch objects>)"
      ]
     },
     "execution_count": 28,
     "metadata": {},
     "output_type": "execute_result"
    },
    {
     "data": {
      "image/png": "[encoded data removed]",
      "text/plain": [
       "<Figure size 432x288 with 1 Axes>"
      ]
     },
     "metadata": {
      "needs_background": "light"
     },
     "output_type": "display_data"
    }
   ],
   "source": [
    "numberSubvertex = []\n",
    "for G in Gs:\n",
    "    for n in G:\n",
    "        if G.nodes[n]['type'] =='Index':\n",
    "            cont = 0\n",
    "            for e in G[n]:\n",
    "                if (G.nodes[e]['type'] == 'IndexColumn'):\n",
    "                    cont = cont + 1\n",
    "            numberSubvertex.append(cont)\n",
    "            \n",
    "bins = np.arange(0, 10, 1)\n",
    "plt.hist(numberSubvertex, bins = bins, alpha=0.5, density = True)"
   ]
  },
  {
   "cell_type": "code",
   "execution_count": 29,
   "metadata": {},
   "outputs": [
    {
     "name": "stdout",
     "output_type": "stream",
     "text": [
      "Optimization terminated successfully.\n",
      "         Current function value: 1.254829\n",
      "         Iterations: 58\n",
      "         Function evaluations: 108\n",
      "Optimization terminated successfully.\n",
      "         Current function value: 1.389439\n",
      "         Iterations: 19\n",
      "         Function evaluations: 39\n",
      "Optimization terminated successfully.\n",
      "         Current function value: 1.256678\n",
      "         Iterations: 10\n",
      "         Function evaluations: 20\n",
      "{'dis': 'uniform', 'params': (0, 3)}\n"
     ]
    }
   ],
   "source": [
    "best = whichFitsBetter(numberSubvertex)\n",
    "print(best)"
   ]
  },
  {
   "cell_type": "markdown",
   "metadata": {},
   "source": [
    "# VIATRA and ALLOY, estimating the scope"
   ]
  },
  {
   "cell_type": "markdown",
   "metadata": {},
   "source": [
    "For VIATRA and ALLOY, the distribution over the objects (i.e., $P(o)$) needs to be approximated. First, we calculate $\\{o_1,\\dots,o_n\\}$ by counting the number of objects of each model in $R_{II}$."
   ]
  },
  {
   "cell_type": "markdown",
   "metadata": {},
   "source": [
    "We consider the KDE function:\n",
    "\n",
    "$$\\hat{f}_{h,K}(o)=\\frac{1}{nh}\\sum_{i=1}^nK\\left(\\frac{o-o_i}{h}\\right).$$\n",
    "\n",
    "Where $K \\in \\{\\text{gaussian, tophat}\\}$ and $h\\in \\texttt{np.logspace(-2, -1, 20)}$. $K$ and $h$ are fixed using crossvalidation."
   ]
  },
  {
   "cell_type": "code",
   "execution_count": 31,
   "metadata": {},
   "outputs": [
    {
     "name": "stdout",
     "output_type": "stream",
     "text": [
      "best bandwidth: 0.1\n",
      "best kernel: gaussian\n"
     ]
    },
    {
     "name": "stderr",
     "output_type": "stream",
     "text": [
      "/home/antolin/anaconda3/lib/python3.8/site-packages/sklearn/model_selection/_search.py:813: RuntimeWarning: invalid value encountered in subtract\n",
      "  array_stds = np.sqrt(np.average((array -\n"
     ]
    }
   ],
   "source": [
    "from sklearn.neighbors import KernelDensity\n",
    "from sklearn.model_selection import GridSearchCV\n",
    "import numpy as np\n",
    "\n",
    "numberObjects = [[len([n for n in G])] for G in Gs]\n",
    "\n",
    "params = {'bandwidth': np.logspace(-2, -1, 20),\n",
    "         'kernel':['gaussian', 'tophat']}\n",
    "grid = GridSearchCV(KernelDensity(), params, n_jobs = 8)\n",
    "grid.fit(np.array(numberObjects))\n",
    "print(\"best bandwidth: {0}\".format(grid.best_estimator_.bandwidth))\n",
    "print(\"best kernel: {0}\".format(grid.best_estimator_.kernel))"
   ]
  },
  {
   "cell_type": "code",
   "execution_count": 35,
   "metadata": {
    "scrolled": true
   },
   "outputs": [
    {
     "data": {
      "text/plain": [
       "array([  9.98983027,  19.00192794,  19.18495912,  24.97858333,\n",
       "        11.95009834,  10.00213512,  65.90808866,  20.01927538,\n",
       "        23.96349448, 133.82086725,  37.99414134,  20.96824569,\n",
       "         5.83675767,   4.99328658, 127.1489356 ,  10.05213037,\n",
       "        11.06119272,   9.86585033,  16.04768984,  31.01484496,\n",
       "        11.05290452,  31.04226286,  19.86402193,  14.99585992,\n",
       "         9.92421291,   8.99499159,  41.91025991,  21.13124704,\n",
       "        45.91410276,  37.91010578,   6.00745864,   4.89229009,\n",
       "       183.95753367,   5.91700354,  21.14111721,  59.07858038,\n",
       "        64.99425305,  58.96087829,   8.09409176,  14.04052041,\n",
       "         6.04980524,  65.99738078,  66.831177  ,  58.9887534 ,\n",
       "        17.94675101,  21.06450553,  62.10118424,  69.9342049 ,\n",
       "        10.04683852,  91.1735879 ,   5.93322873,  66.16819217,\n",
       "        49.91474142,  27.00229598,  61.99888544,   6.00114989,\n",
       "         3.9162322 ,  31.94088169,  42.93322797,  12.03269626,\n",
       "        52.03300351,  28.22259443,  28.1370989 ,  36.94901568,\n",
       "        23.03248696,  14.0997118 ,   4.00306018,  59.99303584,\n",
       "       111.00515749,  60.08672766,  10.91516795,  15.96743305,\n",
       "        11.04704331,  25.03114471,  30.02395828,   6.96301988,\n",
       "        39.09725358,  14.21338682,   5.04064155,   9.98068233,\n",
       "        11.07557403,  37.94608674,  95.92503097,  20.00328087,\n",
       "        44.74172034,   5.88460496,  45.96520381,  95.86466111,\n",
       "         3.89673569,  21.95632517,  10.83570347,  17.95939282,\n",
       "        69.94647298,  21.00254052,  20.1154184 , 111.01725044,\n",
       "        64.0021062 ,  11.00994545,   6.02273928,  20.89832614,\n",
       "        35.98852247,  83.03087512,  35.862924  ,  24.08656529,\n",
       "        21.1081376 ,  21.9368624 ,   3.97586622,   3.91218097,\n",
       "        36.06993805,  92.89387777,  10.9777523 ,  37.91410801,\n",
       "        67.00509543,   4.82057707,  29.13264616,  74.90353936,\n",
       "        64.00598947,   3.9787477 ,  63.92378855,  19.91122199,\n",
       "       168.09363985,  50.94743594,  12.02711702,   8.91985031,\n",
       "        11.93528186,  25.04722472,  21.09304085,  54.98246836,\n",
       "        39.85780801,  20.19979561,  58.91434507,  36.84584126,\n",
       "        44.25944246,   4.95959677,   5.85382673,  11.93165602,\n",
       "         4.03675449,   4.01903116,   3.91482708,  37.18227236,\n",
       "        61.94784203,   4.88153134,  33.09606934,  20.13290628,\n",
       "        60.91825069,  38.85986527,  27.10304383,  52.79526764,\n",
       "        18.87733783,  22.09674462,  31.99446475,  30.97360627,\n",
       "         6.03528166,  64.98472256,  13.87013133, 111.12760753,\n",
       "        61.13250141,   6.02053326,   9.0045134 , 127.23396248,\n",
       "        66.97235672,  26.9740423 ,  54.03644812,  10.1471322 ,\n",
       "         5.15927708,  87.97414274,  43.03083312,   5.86219165,\n",
       "        38.96880239,  61.91597096,  45.89931682,  24.16815767,\n",
       "        22.92077133,  20.94683941,  15.03658488,  36.12978253,\n",
       "       111.04811151,  22.27593551,  26.9925332 ,  75.02587164,\n",
       "        59.02756007,  39.14350494,  22.0507239 ,  33.98837703,\n",
       "        17.90525114,  65.02444435,  55.14013448,  11.95896182,\n",
       "        39.05289436,  21.02461478,  75.08635197,  61.91952463,\n",
       "         4.2346647 ,  20.87208389,  29.96344489,  62.09380925,\n",
       "        53.02967332,  32.08299862,   3.95038977,  32.9925195 ,\n",
       "        21.0012232 ,  67.15692596,  65.0690429 ,  21.07966721,\n",
       "        76.93420739,  96.09688826,  36.02255817,  27.13891453,\n",
       "        21.20140602,  61.96932342,  49.95936969,  50.9135955 ,\n",
       "        39.98564205,  17.96179746,  11.03595044,  58.98554332,\n",
       "        76.96384007, 134.10645851,  11.90621198,   6.0433108 ,\n",
       "        19.95940583,  34.07243685,  26.13852615,  30.96969017,\n",
       "         4.04410329,  93.01787929, 192.92005776,  15.02407875,\n",
       "        21.02891205,  39.04128708,  31.98016011,  15.00941923,\n",
       "        22.88523891,  76.96418859,  51.05559627,  33.08924739,\n",
       "        14.95776852,  20.0104714 ,  49.02280533,  64.02014799,\n",
       "        64.05407736,   9.81819224,  22.99506759,  44.02390336,\n",
       "        20.89996697,  75.16739857,  45.01615593, 111.15634047,\n",
       "        55.9209477 ,  61.90926999, 111.02242522,   7.83213116,\n",
       "        21.02149656,  12.00972192,   6.10156653,  63.07010413,\n",
       "        40.95825227,  63.89025033,  24.17123052,  66.9207885 ,\n",
       "        81.89544754,  26.89151439,  21.11173053,  21.94810998,\n",
       "        20.92462955, 102.01376898,  38.97930553,  63.93219045,\n",
       "        59.07539915,  21.10653155,  11.09853175,   5.07669197,\n",
       "        57.04026255,  23.8224112 ,  22.16692508,  21.03019892,\n",
       "         8.06081564,  31.11149623,  20.14333525,  34.0418398 ,\n",
       "        67.04355462, 110.94007757,  59.00330898,  30.91458387,\n",
       "       110.92800595,  31.91064256,  21.98439761,  12.10490932,\n",
       "        62.31709748,   9.01894996,  13.86515869,  37.12649833,\n",
       "         3.96992161,   8.93393914, 227.02098495,  52.87593754,\n",
       "        60.02224632,  63.99116245,   5.00983779,  24.03814163,\n",
       "         5.00674923,   5.00163381,  21.02843145,  63.04154006,\n",
       "         8.89685175,   3.85700087,  43.99383619,  23.85672645,\n",
       "       168.00875315,  43.09387469,  11.06071117,  55.89518296,\n",
       "        21.91397375,  21.03283013,  53.95987022,  11.96833447,\n",
       "        12.05969065,  83.90127133,  63.95987653, 167.91999175,\n",
       "        82.89568705,  69.91429218,  24.06774622,  55.00518204,\n",
       "        17.91208394, 183.97688984,  13.83611927,  19.92666872,\n",
       "        39.21495745,  64.99097562, 111.07316589,  37.99345116,\n",
       "         4.03481692,  67.06632581,  15.88953834,  15.99690637,\n",
       "        35.15788652,  14.92044994,  63.94335601,  25.96923087,\n",
       "        14.02690241,  23.05249179, 184.12674117,  17.04994982,\n",
       "        30.99379469,  22.12591671,  23.0704111 ,  31.85043205,\n",
       "        22.25263682,  12.17699214,   9.98317858,  19.03779101,\n",
       "        37.13243587, 226.98277992,  21.07303518,  14.11045785,\n",
       "        48.89851741,  69.93976681,  21.09214084,  12.04608145,\n",
       "         4.09237966,   5.9867432 ,   6.97109948, 183.80013605,\n",
       "        63.88539996, 184.00470661, 168.08245572,  75.05311784,\n",
       "         4.9871758 ,  41.97282284,  67.02171796,  79.00782112,\n",
       "        59.14045455,   9.01464408,  81.8518754 ,   5.87274419,\n",
       "        31.15187593,  11.88288395, 184.07644975,  11.97316273,\n",
       "        66.98302417, 183.98658672,  21.1221385 ,   3.98071582,\n",
       "         3.99666807,   6.84691965,  29.02066905,  52.05310425,\n",
       "        20.02391456,  75.13978963,  59.00551714,  33.02989775,\n",
       "        35.1648504 , 110.84499858,  18.95441747,  12.14261588,\n",
       "       111.09361291,   6.06783801,  21.08326507,   4.03270662,\n",
       "        25.16315974,  22.03777592,  60.02398671,  21.01589587,\n",
       "        31.0192864 ,  26.88429827,  79.07706731,   3.98695603,\n",
       "        65.18219151,  18.99243495,  31.04209183,  37.02466022,\n",
       "       126.9374443 ,  21.09921368,  36.19050636,  31.99852228,\n",
       "        69.96995212,  30.96449713,  10.81076381,  58.98221869,\n",
       "         5.02509981,  50.10547579,  26.09600477,   5.95835009,\n",
       "         8.9723177 ,  62.11239053,  49.98265361,  95.94899705,\n",
       "        15.13925184,  20.10375857,  82.00187918,  39.94062226,\n",
       "        11.79881197,  18.05897036,  22.91036303,  32.8037268 ,\n",
       "        41.15848205,   8.06479678,  26.88609918,  37.87855986,\n",
       "        91.08709618,   5.91220294,   5.12961499,  17.06164593,\n",
       "         4.05365965,  21.04046955,  29.01914509,  15.08805112,\n",
       "         5.95459196,   5.0085952 ,   5.07519466,  24.05629897,\n",
       "        20.88050132,  36.94995903,  21.02528035,   3.95919853,\n",
       "        42.17746586,   3.96068468,  38.98377816,  64.07694302,\n",
       "        26.03305327,  64.98547255,  14.92435065,  12.03015141,\n",
       "        34.10390964,  62.04790952,  46.92218165,  32.1736775 ,\n",
       "       110.85534221,  33.84173144,  51.09605572,   8.02258405,\n",
       "         8.94505015,   9.89014293,   8.23207998,  12.01170909,\n",
       "        67.05342012,  21.03178851,  24.0434808 ,  47.05400945,\n",
       "       127.0732424 ,  66.96247776,  38.9708358 ,  29.82589772,\n",
       "        69.92196956,  25.02711128, 134.10450234,  19.05990395,\n",
       "        20.96593077,  24.87368271,  25.72226409,   4.1151734 ,\n",
       "        61.9410771 ,   8.9551535 ,  41.0131574 ,  82.859444  ,\n",
       "        26.96502178,  25.20234719,  21.05053869,  18.03592492,\n",
       "        20.84175055,  15.22436019,  30.85772051,  12.19223248,\n",
       "        20.7884944 ,   5.14053654,  64.16180543,  13.91755909,\n",
       "        32.04225804,  11.05474806,  36.91862055,  20.85508824,\n",
       "         9.86822827,  14.05410082,  38.99148844,  43.9435699 ,\n",
       "        51.0966768 ,  33.05080679,  35.92445373,   4.87987985,\n",
       "         7.05232617,  38.94624166,  75.00992049,  44.1576299 ,\n",
       "        21.05023282,  14.9137733 ,  21.01606612,  30.9047355 ,\n",
       "        21.16085222,   8.94384213,  77.02072707,  33.03077326,\n",
       "        39.01592505,  48.8041451 ,  61.85535789,  10.95476497,\n",
       "        22.03194318,  19.98622208,  20.90428525,  20.86515757,\n",
       "        17.95984425,   9.9531524 ,  19.05128365,  11.96736815,\n",
       "        24.06027077,  20.94053502,  66.97440423,  28.96519536,\n",
       "       226.9217633 ,  21.06251187,  37.9186404 ,  59.94783585,\n",
       "        38.99268804,  22.87026203,  19.9675065 ,  20.92886936,\n",
       "        52.96118458,  25.9940072 ,  38.92000864,   3.97799242,\n",
       "        59.13086688,  43.99742014,  22.11452622,  31.03464944,\n",
       "        51.07741606,  30.9225541 ,   7.01049072,  31.01339129,\n",
       "         5.93873743,   5.91771717,  52.85097346,   7.14961396,\n",
       "        64.90275971,  63.13462211,  92.95325068,  54.91375067,\n",
       "         6.06225191,   3.93688081,  11.05684589,   4.96671882,\n",
       "         6.04804245,  39.90318139,  39.08313511,  22.04879727,\n",
       "        66.90803493,  12.26429357,   7.0540123 ,   4.22904671,\n",
       "        59.16002678,   4.98111652,  29.95877282,  61.95965408,\n",
       "        53.81699714,  20.93041649,  32.0246766 ,  22.15259576,\n",
       "        90.92272281,  16.08820566,  64.87474067,  10.941368  ,\n",
       "        64.95423594,  79.03718111,  14.04573096,  59.09623417,\n",
       "        25.0770837 ,  12.02431682,  39.03903649,  34.15885307,\n",
       "        19.94890738,   5.07747283, 183.81918561,  57.04113342,\n",
       "         5.95167505,  44.00025712,  60.10400862,  33.01646438,\n",
       "        12.08851875,  28.14737648,  75.0389094 ,  22.11710411,\n",
       "        20.9673439 ,  53.99917901,   8.94773806,  29.10429776,\n",
       "        11.04140914,  19.94927655,  21.01546688,  67.10415684,\n",
       "        20.9960732 ,  55.90510672,  59.01319118,  81.80194344,\n",
       "        33.07687706,  45.95786724,   4.95306893,  12.08756957,\n",
       "         9.86348371,  37.19470986,  11.9519758 ,  16.94767491,\n",
       "       111.10212247,  18.07086953,  22.24512297,  74.9788794 ,\n",
       "       133.98795934,  55.8520684 , 192.96678977,  27.92785687,\n",
       "        63.9551233 ,  59.82558122,  62.16606076,   3.85833965,\n",
       "        81.71977972,  61.88115756,  66.93961604,   3.88504459,\n",
       "        16.10983035,  10.98621608, 184.00253856,  11.06103918,\n",
       "        12.02860125,  67.09785673,   9.88905224,  82.94524819,\n",
       "        25.06659671,  74.74654455,  20.86248155, 111.05009922,\n",
       "        18.9519751 ,   9.09361076,  75.08091803,  36.88019071,\n",
       "        65.04066571, 127.12016979,   4.01474344,   3.90225351,\n",
       "       168.08793899,  21.06354245,  28.05426108,   9.07159389,\n",
       "         8.70053871,  77.08809376,  75.18081318,  30.04366385,\n",
       "        28.0192729 ,  25.06964387,  39.03382255,   9.06517813,\n",
       "        12.0001471 ,  26.92332951,   9.89956773,  74.90018083,\n",
       "        54.86269574,   8.8932258 ,  31.17612661,   5.07540957,\n",
       "         8.93749726,  20.96096073,  23.01125575,  25.9344455 ,\n",
       "        15.00675169,  36.07776041,  62.99642573,  10.03360157,\n",
       "        36.08864915,  26.97278682,   6.02847906,  95.96906224,\n",
       "        95.99714711,  66.96752697,   5.94711301,  84.01737119,\n",
       "         5.05665453, 184.01463044,  39.0498727 ,  22.92620682,\n",
       "        32.87962648,  21.04170435,  21.06878814,  15.00498573,\n",
       "        12.13480358,   5.09076988,  75.26805708,  18.97991915,\n",
       "        20.90011512,   4.92598632,  41.94345022,  15.04760314,\n",
       "        58.78419314,   5.1318551 ,  50.97607034,  64.97532064,\n",
       "         4.89206568,  17.98857744,  19.00132398,  13.98780551,\n",
       "        49.03390593,  30.9410368 ,   9.91041842,  52.05483281,\n",
       "        17.00986675,   6.01971811,  18.10590273,  20.89774356,\n",
       "        64.91447595,  63.12572197,  63.85171166,  20.86905879,\n",
       "        21.08178618,  18.02382002,  55.01052321,   9.99083406,\n",
       "        22.00312675,  45.99078879,   6.13554427,   4.96018519,\n",
       "        13.98386265,  18.17944488,  12.00275097,  11.22320164,\n",
       "        66.98950203, 184.1367415 ,  10.8344656 ,  57.01536445,\n",
       "        63.84155264,  21.08444543,  49.87871322,  65.02837696,\n",
       "        20.97178041,  37.88417968,  53.838064  ,  11.94889595,\n",
       "        51.17406294,  58.97065149,  31.09172215,  66.99429571,\n",
       "        27.08767268,  18.81730886,  15.95968117,  38.09494055,\n",
       "        36.98367451,  32.99135447,  25.95695381,   7.11493794,\n",
       "        27.02975144,  52.00440223,  32.06430545,  11.05882249,\n",
       "        33.0212587 ,  37.15470315,   5.99397125,  12.0278081 ,\n",
       "         8.93570474,  10.01501152,   5.15877615,  17.93567424,\n",
       "        62.88664072,  82.09967596,  20.98512338,  17.00960042,\n",
       "         6.99548867,   9.00791217,  26.08505307,  64.91608758,\n",
       "        33.89882259,  44.00849681,  92.83935603,  20.86269465,\n",
       "        62.18666831,  11.07574683,   5.99899435,  39.12380069,\n",
       "        19.89594008,  33.96843969,  11.06234536,  15.08906717,\n",
       "       111.05129168,  24.74587612,  16.90319179,  31.04770681,\n",
       "        20.96440485,  18.25402316,  33.09265583,  59.05580819,\n",
       "        61.88830504,  17.99647033,  15.0241204 ,  67.11277836,\n",
       "        48.08811311,  52.10329892,  24.9076088 ,  11.14121517,\n",
       "       167.86195692,   8.94640854,  34.04307711,  11.98501084,\n",
       "        28.89939631,  13.91784502,  66.84517457,  19.05319746,\n",
       "        30.12605688,  64.98996065,  36.95996512,   6.85276771,\n",
       "         9.09132019,  64.22113043,  35.82025442,  25.89365671,\n",
       "        14.9320407 ,  19.94356821,  20.0227346 ,  30.16142495,\n",
       "        21.10085973,  20.05275974,  52.92760713,  43.88803718,\n",
       "        20.92032247,  17.15480668,  41.99382567,   5.95531637,\n",
       "        57.98162443,  31.08246182,  38.86871503,  57.14148741,\n",
       "        19.01564763,  23.9783656 ,  56.04428461,  35.02183971,\n",
       "        33.96558035,  61.97472893,  61.91311375,   4.06563908,\n",
       "        54.94680062,  78.90437416,  11.01658635,  11.13291413,\n",
       "        32.99516554,   5.93918987,  29.0403896 ,  39.19367125,\n",
       "       167.85480945,  20.03822028,  22.02050866,  16.11615338,\n",
       "        15.09909092, 110.98132909,  10.83154827,  36.08065638,\n",
       "        41.91648073,   9.90532596,  39.11483506,  20.90891496,\n",
       "        47.14028447,  45.03358447,  39.03191184,  62.03072648,\n",
       "         9.83615764,  13.82236114,  25.02155531,  30.05680074,\n",
       "        34.0082611 ,  20.91784655,  62.00189221,   3.99179658,\n",
       "         4.90428419,  53.10139722,  13.82697239,  21.05887424,\n",
       "        65.03843234,  11.10097119,  61.89946881,   4.01014071,\n",
       "        22.21711649,  60.06620743,  64.01005812,  45.05391613,\n",
       "         5.00861768,  33.2190898 ,  59.09836362,   9.9914385 ,\n",
       "        28.02523314,  22.9609202 ,  21.12098501,   5.85938952,\n",
       "        40.83952615,  12.14587147, 168.21531198,   7.04683049,\n",
       "         5.01127379,  51.06572677,   5.93529465,  24.01712435,\n",
       "        21.00389087,  60.06265643,   8.84420015,   3.94929652,\n",
       "         5.08449956,  31.93244062,  96.90066386,  29.20420721,\n",
       "        42.0038118 ,  52.94210819, 126.83076296,  27.07293463,\n",
       "        21.06991362,  20.97012404,  20.88977698,  20.99754506,\n",
       "       167.91641439,  28.90579064,  50.98967872,   4.89486096,\n",
       "         6.0246649 ,  20.06079925,  20.91603676, 110.86317549,\n",
       "        17.15612796,  45.90597298,  87.93400573,  20.02130172,\n",
       "        36.05993694,  38.97436831,  28.04607943, 183.95990138,\n",
       "        76.90288293,  11.14263169,  17.24884416,  39.16959695,\n",
       "       127.01418066,   5.18334354,  36.03557035,  20.95227137,\n",
       "        58.04663796,  17.99056075,  21.90168818,  22.9101678 ,\n",
       "        55.08020517,  19.8153468 ,  32.06041367,  11.83704164,\n",
       "        30.78788236,  60.81611534,  54.1966764 ,  83.9803766 ,\n",
       "        31.00865832,  19.1419255 ,  34.09341797,   9.86084947,\n",
       "        15.08690063,  11.01841813,  30.96583219,  77.00242909,\n",
       "        22.1279812 ,  17.91140335,  30.04008857,  59.99903428,\n",
       "        19.82028354,  57.91977468,  22.01932136,  36.12973421])"
      ]
     },
     "execution_count": 35,
     "metadata": {},
     "output_type": "execute_result"
    }
   ],
   "source": [
    "kde = grid.best_estimator_\n",
    "new_data = kde.sample(1000, random_state=0)\n",
    "new_data = new_data.reshape(-1)\n",
    "new_data"
   ]
  },
  {
   "cell_type": "code",
   "execution_count": 36,
   "metadata": {},
   "outputs": [
    {
     "data": {
      "image/png": "[encoded data removed]",
      "text/plain": [
       "<Figure size 432x288 with 1 Axes>"
      ]
     },
     "metadata": {
      "needs_background": "light"
     },
     "output_type": "display_data"
    }
   ],
   "source": [
    "import matplotlib.pyplot as plt\n",
    "size_bin=2\n",
    "bins = np.arange(-50, 200, size_bin)\n",
    "numberObjects = [len([n for n in G]) for G in Gs]\n",
    "hist = plt.hist(numberObjects, bins = bins, alpha=0.5,density=True)\n",
    "plt.hist(new_data, bins = bins, alpha=0.5,density=True)\n",
    "probs = hist[0]\n",
    "probs = (probs/np.sum(probs))\n",
    "objs = hist[1]"
   ]
  },
  {
   "cell_type": "code",
   "execution_count": 12,
   "metadata": {},
   "outputs": [],
   "source": [
    "import numpy as np\n",
    "import random\n",
    "i = 0\n",
    "new_data = kde.sample(300, random_state=0)\n",
    "new_data = new_data.reshape(-1)\n",
    "for s in new_data:\n",
    "    with open('../configurationFiles/RDS/model.vsconfig', 'r') as file:\n",
    "        data = file.read()\n",
    "    x = data.replace(\"#node += 20..21\", \"#node += \"+str(int(s)))\n",
    "    x = x.replace(\"debug =\\t\\t\\t\\\"outputs/debug\\\"\",\"debug =\\t\\t\\t\\\"outputs\"+str(i)+\"/debug\\\"\")\n",
    "    x = x.replace(\"log =\\t\\t\\t\\\"outputs/log.txt\\\"\",\"log =\\t\\t\\t\\\"outputs\"+str(i)+\"/log.txt\\\"\")\n",
    "    x = x.replace(\"output =\\t\\t\\\"outputs/models\\\"\",\"output =\\t\\t\\\"outputs\"+str(i)+\"/models\\\"\")\n",
    "    x = x.replace(\"runs = 10\",\"runs = 1\")\n",
    "    with open(\"../configurationFiles/RDS/VIATRA/rdsGen\"+str(i)+\".vsconfig\", \"w\") as text_file:\n",
    "        text_file.write(x)\n",
    "        i = i + 1\n",
    "    "
   ]
  },
  {
   "cell_type": "code",
   "execution_count": 37,
   "metadata": {},
   "outputs": [],
   "source": [
    "import numpy as np\n",
    "import random\n",
    "i = 0\n",
    "new_data = kde.sample(1000, random_state=0)\n",
    "new_data = new_data.reshape(-1)\n",
    "for s in new_data:\n",
    "    if int(s) > 20:\n",
    "        continue\n",
    "    with open('../configurationFiles/RDS/modelAlloy.vsconfig', 'r') as file:\n",
    "        data = file.read()\n",
    "    x = data.replace(\"#node += 20..21\", \"#node += \"+str(int(s)))\n",
    "    x = x.replace(\"debug =\\t\\t\\t\\\"outputs/debug\\\"\",\"debug =\\t\\t\\t\\\"outputs\"+str(i)+\"/debug\\\"\")\n",
    "    x = x.replace(\"log =\\t\\t\\t\\\"outputs/log.txt\\\"\",\"log =\\t\\t\\t\\\"outputs\"+str(i)+\"/log.txt\\\"\")\n",
    "    x = x.replace(\"output =\\t\\t\\\"outputs/models\\\"\",\"output =\\t\\t\\\"outputs\"+str(i)+\"/models\\\"\")\n",
    "    x = x.replace(\"ViatraSolver\", \"AlloySolver\")\n",
    "    with open(\"../configurationFiles/RDS/ALLOY/rdsGen\"+str(i)+\".vsconfig\", \"w\") as text_file:\n",
    "        text_file.write(x)\n",
    "        i = i + 1"
   ]
  },
  {
   "cell_type": "markdown",
   "metadata": {},
   "source": [
    "## Atlan"
   ]
  },
  {
   "cell_type": "code",
   "execution_count": 19,
   "metadata": {},
   "outputs": [
    {
     "data": {
      "text/plain": [
       "array([[ 18.        ,   1.61111111],\n",
       "       [ 21.        ,   0.95238095],\n",
       "       [ 43.        ,   1.62790698],\n",
       "       [ 31.        ,   2.12903226],\n",
       "       [ 21.        ,   1.14285714],\n",
       "       [ 11.        ,   1.27272727],\n",
       "       [ 77.        ,   1.55844156],\n",
       "       [ 75.        ,   1.41333333],\n",
       "       [ 19.        ,   1.15789474],\n",
       "       [  7.        ,   0.85714286],\n",
       "       [ 24.        ,   1.45833333],\n",
       "       [ 17.        ,   1.41176471],\n",
       "       [ 14.        ,   1.5       ],\n",
       "       [ 24.        ,   1.625     ],\n",
       "       [  4.        ,   0.75      ],\n",
       "       [ 59.        ,   1.3220339 ],\n",
       "       [ 96.        ,   1.73958333],\n",
       "       [127.        ,   0.99212598],\n",
       "       [ 11.        ,   1.27272727],\n",
       "       [ 22.        ,   1.31818182],\n",
       "       [ 63.        ,   1.55555556],\n",
       "       [ 10.        ,   1.3       ],\n",
       "       [ 21.        ,   0.95238095],\n",
       "       [ 96.        ,   1.40625   ],\n",
       "       [ 60.        ,   1.58333333],\n",
       "       [ 27.        ,   1.55555556],\n",
       "       [ 37.        ,   1.62162162],\n",
       "       [ 28.        ,   1.35714286],\n",
       "       [ 11.        ,   0.90909091],\n",
       "       [ 10.        ,   1.3       ],\n",
       "       [ 14.        ,   1.5       ],\n",
       "       [ 22.        ,   1.13636364],\n",
       "       [ 70.        ,   1.5       ],\n",
       "       [ 44.        ,   1.52272727],\n",
       "       [ 37.        ,   0.97297297],\n",
       "       [ 42.        ,   1.45238095],\n",
       "       [ 56.        ,   0.98214286],\n",
       "       [ 32.        ,   1.59375   ],\n",
       "       [ 39.        ,   1.28205128],\n",
       "       [ 52.        ,   1.36538462],\n",
       "       [  6.        ,   1.5       ],\n",
       "       [ 59.        ,   1.86440678],\n",
       "       [ 62.        ,   1.43548387],\n",
       "       [ 65.        ,   1.53846154],\n",
       "       [ 21.        ,   1.33333333],\n",
       "       [111.        ,   1.31531532],\n",
       "       [  4.        ,   0.75      ],\n",
       "       [  9.        ,   0.88888889],\n",
       "       [  8.        ,   1.375     ],\n",
       "       [ 23.        ,   1.13043478],\n",
       "       [ 11.        ,   0.90909091],\n",
       "       [ 51.        ,   1.76470588],\n",
       "       [ 62.        ,   1.69354839],\n",
       "       [ 15.        ,   1.2       ],\n",
       "       [ 51.        ,   1.60784314],\n",
       "       [ 36.        ,   1.52777778],\n",
       "       [ 53.        ,   1.66037736],\n",
       "       [ 22.        ,   0.95454545],\n",
       "       [  4.        ,   0.75      ],\n",
       "       [ 34.        ,   1.44117647],\n",
       "       [ 82.        ,   1.52439024],\n",
       "       [ 12.        ,   1.25      ],\n",
       "       [ 21.        ,   1.33333333],\n",
       "       [ 32.        ,   1.71875   ],\n",
       "       [ 35.        ,   1.77142857],\n",
       "       [ 18.        ,   0.94444444],\n",
       "       [  6.        ,   0.83333333],\n",
       "       [ 83.        ,   1.03614458],\n",
       "       [ 26.        ,   1.11538462],\n",
       "       [ 49.        ,   1.46938776],\n",
       "       [ 39.        ,   1.69230769],\n",
       "       [  8.        ,   1.375     ],\n",
       "       [ 20.        ,   0.95      ],\n",
       "       [ 67.        ,   1.46268657],\n",
       "       [  5.        ,   0.8       ],\n",
       "       [ 55.        ,   1.27272727],\n",
       "       [ 32.        ,   1.34375   ],\n",
       "       [ 21.        ,   0.95238095],\n",
       "       [ 10.        ,   1.3       ],\n",
       "       [ 11.        ,   1.27272727],\n",
       "       [ 77.        ,   1.45454545],\n",
       "       [ 79.        ,   1.39240506],\n",
       "       [ 97.        ,   1.60824742],\n",
       "       [ 21.        ,   1.33333333],\n",
       "       [ 57.        ,   1.33333333],\n",
       "       [ 33.        ,   1.45454545],\n",
       "       [111.        ,   1.31531532],\n",
       "       [ 21.        ,   1.33333333],\n",
       "       [111.        ,   1.31531532],\n",
       "       [  6.        ,   0.83333333],\n",
       "       [ 91.        ,   0.98901099],\n",
       "       [  5.        ,   1.6       ],\n",
       "       [ 14.        ,   0.92857143],\n",
       "       [ 15.        ,   1.2       ],\n",
       "       [ 65.        ,   1.53846154],\n",
       "       [134.        ,   1.38059701],\n",
       "       [ 92.        ,   1.42391304],\n",
       "       [ 63.        ,   1.74603175],\n",
       "       [ 21.        ,   1.33333333],\n",
       "       [ 75.        ,   1.30666667],\n",
       "       [ 25.        ,   1.44      ],\n",
       "       [  9.        ,   1.33333333],\n",
       "       [ 26.        ,   1.42307692],\n",
       "       [ 38.        ,   1.39473684],\n",
       "       [ 30.        ,   1.9       ],\n",
       "       [ 12.        ,   0.91666667],\n",
       "       [ 33.        ,   0.96969697],\n",
       "       [ 37.        ,   1.2972973 ],\n",
       "       [ 33.        ,   1.33333333],\n",
       "       [ 66.        ,   1.59090909],\n",
       "       [ 39.        ,   1.28205128],\n",
       "       [ 11.        ,   1.27272727],\n",
       "       [ 47.        ,   1.23404255],\n",
       "       [ 27.        ,   1.40740741],\n",
       "       [184.        ,   1.45108696],\n",
       "       [ 20.        ,   1.35      ],\n",
       "       [ 43.        ,   1.44186047],\n",
       "       [ 16.        ,   1.4375    ],\n",
       "       [  9.        ,   1.33333333],\n",
       "       [ 12.        ,   0.91666667],\n",
       "       [ 17.        ,   1.64705882],\n",
       "       [ 21.        ,   0.95238095],\n",
       "       [ 62.        ,   1.43548387],\n",
       "       [ 19.        ,   1.36842105],\n",
       "       [ 62.        ,   1.69354839],\n",
       "       [ 51.        ,   1.41176471],\n",
       "       [ 18.        ,   0.94444444],\n",
       "       [227.        ,   1.64757709],\n",
       "       [ 20.        ,   1.55      ],\n",
       "       [ 23.        ,   1.47826087],\n",
       "       [ 46.        ,   1.32608696],\n",
       "       [ 31.        ,   0.96774194],\n",
       "       [ 21.        ,   0.95238095],\n",
       "       [ 55.        ,   1.70909091],\n",
       "       [ 21.        ,   1.14285714],\n",
       "       [  7.        ,   1.42857143],\n",
       "       [ 25.        ,   1.6       ],\n",
       "       [ 10.        ,   1.3       ],\n",
       "       [ 41.        ,   1.46341463],\n",
       "       [ 84.        ,   1.46428571],\n",
       "       [ 28.        ,   1.25      ],\n",
       "       [ 45.        ,   1.6       ],\n",
       "       [  6.        ,   0.83333333],\n",
       "       [  4.        ,   0.75      ],\n",
       "       [ 22.        ,   2.04545455],\n",
       "       [  4.        ,   0.75      ],\n",
       "       [ 64.        ,   1.546875  ],\n",
       "       [ 12.        ,   0.91666667],\n",
       "       [  4.        ,   0.75      ],\n",
       "       [  9.        ,   0.88888889],\n",
       "       [ 19.        ,   0.94736842],\n",
       "       [ 25.        ,   1.6       ],\n",
       "       [ 34.        ,   1.79411765],\n",
       "       [ 65.        ,   1.47692308],\n",
       "       [ 59.        ,   0.98305085],\n",
       "       [ 39.        ,   1.28205128],\n",
       "       [ 14.        ,   1.21428571],\n",
       "       [ 20.        ,   1.55      ],\n",
       "       [  9.        ,   1.33333333],\n",
       "       [  9.        ,   1.33333333],\n",
       "       [  9.        ,   0.88888889],\n",
       "       [ 10.        ,   1.3       ],\n",
       "       [ 59.        ,   1.72881356],\n",
       "       [  4.        ,   0.75      ],\n",
       "       [ 28.        ,   1.53571429],\n",
       "       [ 40.        ,   1.075     ],\n",
       "       [ 18.        ,   1.16666667],\n",
       "       [ 21.        ,   0.95238095],\n",
       "       [ 54.        ,   1.72222222],\n",
       "       [ 36.        ,   1.52777778],\n",
       "       [ 14.        ,   1.78571429],\n",
       "       [193.        ,   0.99481865],\n",
       "       [ 42.        ,   1.64285714],\n",
       "       [ 20.        ,   0.95      ],\n",
       "       [ 67.        ,   1.28358209],\n",
       "       [ 39.        ,   1.79487179],\n",
       "       [ 27.        ,   1.40740741],\n",
       "       [ 44.        ,   1.52272727],\n",
       "       [ 19.        ,   0.94736842],\n",
       "       [ 21.        ,   1.14285714],\n",
       "       [ 54.        ,   1.57407407],\n",
       "       [168.        ,   1.30357143],\n",
       "       [ 39.        ,   1.48717949],\n",
       "       [ 36.        ,   1.41666667],\n",
       "       [ 30.        ,   2.03333333],\n",
       "       [ 10.        ,   1.3       ],\n",
       "       [ 17.        ,   1.64705882],\n",
       "       [ 12.        ,   1.25      ],\n",
       "       [ 12.        ,   0.91666667],\n",
       "       [ 59.        ,   1.66101695],\n",
       "       [111.        ,   1.31531532],\n",
       "       [ 21.        ,   0.95238095],\n",
       "       [ 11.        ,   1.63636364],\n",
       "       [  5.        ,   0.8       ],\n",
       "       [ 16.        ,   0.9375    ],\n",
       "       [ 15.        ,   1.46666667],\n",
       "       [102.        ,   1.18627451],\n",
       "       [ 38.        ,   1.81578947],\n",
       "       [ 15.        ,   1.2       ],\n",
       "       [ 31.        ,   1.87096774],\n",
       "       [ 48.        ,   1.5625    ],\n",
       "       [ 61.        ,   1.63934426],\n",
       "       [ 34.        ,   1.44117647],\n",
       "       [ 29.        ,   1.65517241],\n",
       "       [  7.        ,   0.85714286],\n",
       "       [  4.        ,   0.75      ],\n",
       "       [ 12.        ,   1.25      ],\n",
       "       [  6.        ,   0.83333333],\n",
       "       [ 10.        ,   1.3       ],\n",
       "       [111.        ,   1.31531532],\n",
       "       [ 26.        ,   1.42307692],\n",
       "       [ 38.        ,   0.89473684],\n",
       "       [111.        ,   1.31531532],\n",
       "       [ 88.        ,   1.35227273],\n",
       "       [ 67.        ,   1.34328358],\n",
       "       [ 64.        ,   1.234375  ],\n",
       "       [ 10.        ,   1.3       ],\n",
       "       [ 31.        ,   0.96774194],\n",
       "       [ 34.        ,   1.67647059],\n",
       "       [  5.        ,   1.6       ],\n",
       "       [ 64.        ,   1.609375  ],\n",
       "       [  4.        ,   0.75      ],\n",
       "       [ 20.        ,   1.75      ],\n",
       "       [ 19.        ,   1.36842105],\n",
       "       [ 62.        ,   1.43548387],\n",
       "       [  6.        ,   0.83333333],\n",
       "       [  5.        ,   0.8       ],\n",
       "       [  7.        ,   0.85714286],\n",
       "       [ 29.        ,   1.65517241],\n",
       "       [ 53.        ,   1.43396226],\n",
       "       [ 31.        ,   1.22580645],\n",
       "       [  5.        ,   0.8       ],\n",
       "       [ 22.        ,   1.13636364],\n",
       "       [ 18.        ,   0.94444444],\n",
       "       [ 58.        ,   1.60344828],\n",
       "       [  8.        ,   1.375     ],\n",
       "       [ 21.        ,   1.71428571],\n",
       "       [ 21.        ,   1.33333333],\n",
       "       [ 93.        ,   1.33333333],\n",
       "       [ 12.        ,   0.91666667],\n",
       "       [ 24.        ,   1.45833333],\n",
       "       [ 21.        ,   1.14285714],\n",
       "       [  6.        ,   1.5       ],\n",
       "       [  5.        ,   0.8       ],\n",
       "       [ 11.        ,   0.90909091],\n",
       "       [ 22.        ,   0.95454545],\n",
       "       [ 15.        ,   1.2       ],\n",
       "       [ 50.        ,   1.3       ],\n",
       "       [ 24.        ,   1.625     ],\n",
       "       [ 22.        ,   1.13636364]])"
      ]
     },
     "execution_count": 19,
     "metadata": {},
     "output_type": "execute_result"
    }
   ],
   "source": [
    "import numpy as np\n",
    "numberObjects = [n[0] for n in numberObjects]\n",
    "deg_objects = [np.mean([G.out_degree(n) for n in G]) for G in Gs]\n",
    "objects_deg = np.array(list(zip(numberObjects,deg_objects)))\n",
    "objects_deg"
   ]
  },
  {
   "cell_type": "code",
   "execution_count": 20,
   "metadata": {},
   "outputs": [
    {
     "name": "stdout",
     "output_type": "stream",
     "text": [
      "best bandwidth: 0.1\n",
      "best kernel: gaussian\n"
     ]
    },
    {
     "name": "stderr",
     "output_type": "stream",
     "text": [
      "/home/antolin/anaconda3/lib/python3.8/site-packages/sklearn/model_selection/_search.py:813: RuntimeWarning: invalid value encountered in subtract\n",
      "  array_stds = np.sqrt(np.average((array -\n"
     ]
    }
   ],
   "source": [
    "params = {'bandwidth': np.logspace(-2, -1, 20),\n",
    "         'kernel':['gaussian', 'tophat']}\n",
    "grid2 = GridSearchCV(KernelDensity(), params, n_jobs = 10)\n",
    "grid2.fit(objects_deg)\n",
    "print(\"best bandwidth: {0}\".format(grid2.best_estimator_.bandwidth))\n",
    "print(\"best kernel: {0}\".format(grid2.best_estimator_.kernel))"
   ]
  },
  {
   "cell_type": "code",
   "execution_count": 22,
   "metadata": {},
   "outputs": [],
   "source": [
    "kde2 = grid2.best_estimator_\n",
    "new_data2 = kde2.sample(500, random_state=0)"
   ]
  },
  {
   "cell_type": "code",
   "execution_count": 23,
   "metadata": {},
   "outputs": [],
   "source": [
    "import numpy as np\n",
    "import random\n",
    "import subprocess\n",
    "i = 0\n",
    "for s in new_data2:\n",
    "    subprocess.call(['java', '-jar', '../java/instantiate.jar', \n",
    "                     '-m','/home/antolin/wakame/RealisticModels/java/GraphGeneration/src/main/resources/models/rdsSimplified.ecore',\n",
    "                    '-f','-n','1','-s',str(s[0]),'-d',str(s[1]),'-o',\n",
    "                     '/home/antolin/wakame/AssessingRealisticGenerators/syntheticModels/RAND/RDS/'+str(i)+'/',\n",
    "                    '-e',str(i)])\n",
    "    i = i + 1"
   ]
  }
 ],
 "metadata": {
  "kernelspec": {
   "display_name": "Python 3",
   "language": "python",
   "name": "python3"
  },
  "language_info": {
   "codemirror_mode": {
    "name": "ipython",
    "version": 3
   },
   "file_extension": ".py",
   "mimetype": "text/x-python",
   "name": "python",
   "nbconvert_exporter": "python",
   "pygments_lexer": "ipython3",
   "version": "3.8.3"
  }
 },
 "nbformat": 4,
 "nbformat_minor": 4
}
