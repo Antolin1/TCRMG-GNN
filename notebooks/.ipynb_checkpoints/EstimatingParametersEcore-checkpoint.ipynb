{
 "cells": [
  {
   "cell_type": "markdown",
   "metadata": {},
   "source": [
    "# Importing some utilities"
   ]
  },
  {
   "cell_type": "code",
   "execution_count": 1,
   "metadata": {},
   "outputs": [],
   "source": [
    "import glob\n",
    "import sys\n",
    "sys.path.append('../python/')\n",
    "from json2graph import jsonFile2graph\n",
    "from graphUtils import plot_graph\n",
    "from statsUtils import whichFitsBetter"
   ]
  },
  {
   "cell_type": "markdown",
   "metadata": {},
   "source": [
    "# Loading $R_{II}$"
   ]
  },
  {
   "cell_type": "code",
   "execution_count": 2,
   "metadata": {},
   "outputs": [],
   "source": [
    "import networkx as nx\n",
    "import glob\n",
    "import json\n",
    "import os\n",
    "\n",
    "files = glob.glob(\"../realGraphs/Ecore/R2/*.json\")\n",
    "\n",
    "Gs = []\n",
    "for file in files:\n",
    "    Gs.append(jsonFile2graph(file))"
   ]
  },
  {
   "cell_type": "markdown",
   "metadata": {},
   "source": [
    "# RandomEMF"
   ]
  },
  {
   "cell_type": "markdown",
   "metadata": {},
   "source": [
    "For each rule in RandomEMF, depending on the type of rule, we estimate its parameters. More concretely, for shapes we use the function `whichFitsBetter` that selects the best distribuntion by using maximum likeihood. For priorities in alternative rules, the procedure described in the paper is done and it is based on counting each different alternative in the set $R_{II}$."
   ]
  },
  {
   "cell_type": "markdown",
   "metadata": {},
   "source": [
    "## Number of classifiers"
   ]
  },
  {
   "cell_type": "markdown",
   "metadata": {},
   "source": [
    "For the rule:\n",
    "\n",
    "``` \n",
    "Package: EPackage ->\n",
    "    eClassifiers += Classifier#Distribution(parameters);\n",
    "```"
   ]
  },
  {
   "cell_type": "code",
   "execution_count": 3,
   "metadata": {},
   "outputs": [
    {
     "data": {
      "text/plain": [
       "(array([0.07679325, 0.06329114, 0.01434599, 0.00759494, 0.00506329,\n",
       "        0.00253165, 0.00421941, 0.00337553, 0.00084388, 0.        ,\n",
       "        0.0092827 , 0.00421941, 0.00084388, 0.00168776, 0.        ,\n",
       "        0.        , 0.        , 0.00084388, 0.        , 0.        ,\n",
       "        0.        , 0.        , 0.        , 0.        , 0.        ,\n",
       "        0.        , 0.00084388, 0.00084388, 0.        , 0.00084388,\n",
       "        0.00084388, 0.00168776, 0.        , 0.        , 0.        ,\n",
       "        0.        , 0.        , 0.        , 0.        ]),\n",
       " array([  0,   5,  10,  15,  20,  25,  30,  35,  40,  45,  50,  55,  60,\n",
       "         65,  70,  75,  80,  85,  90,  95, 100, 105, 110, 115, 120, 125,\n",
       "        130, 135, 140, 145, 150, 155, 160, 165, 170, 175, 180, 185, 190,\n",
       "        195]),\n",
       " <a list of 39 Patch objects>)"
      ]
     },
     "execution_count": 3,
     "metadata": {},
     "output_type": "execute_result"
    },
    {
     "data": {
      "image/png": "[encoded data removed]",
      "text/plain": [
       "<Figure size 432x288 with 1 Axes>"
      ]
     },
     "metadata": {
      "needs_background": "light"
     },
     "output_type": "display_data"
    }
   ],
   "source": [
    "import matplotlib.pyplot as plt\n",
    "import numpy as np\n",
    "\n",
    "def isClassifier(tp):\n",
    "    if tp == 'EClass':\n",
    "        return True\n",
    "    if tp == 'EDataType':\n",
    "        return True\n",
    "    if tp == 'EEnum':\n",
    "        return True\n",
    "    return False\n",
    "\n",
    "bins = np.arange(0, 200, 5)\n",
    "numberClassifiers = [len([n for n in G if isClassifier(G.nodes[n]['type'])]) for G in Gs]\n",
    "plt.hist(numberClassifiers, bins = bins, alpha=0.5, density = True)"
   ]
  },
  {
   "cell_type": "code",
   "execution_count": 4,
   "metadata": {},
   "outputs": [
    {
     "name": "stdout",
     "output_type": "stream",
     "text": [
      "Optimization terminated successfully.\n",
      "         Current function value: 4.130096\n",
      "         Iterations: 37\n",
      "         Function evaluations: 72\n",
      "Optimization terminated successfully.\n",
      "         Current function value: 5.337392\n",
      "         Iterations: 30\n",
      "         Function evaluations: 61\n",
      "Optimization terminated successfully.\n",
      "         Current function value: 29.627922\n",
      "         Iterations: 15\n",
      "         Function evaluations: 30\n"
     ]
    },
    {
     "data": {
      "text/plain": [
       "{'dis': 'nbinom', 'params': (1.0, 0.02159552905612781)}"
      ]
     },
     "execution_count": 4,
     "metadata": {},
     "output_type": "execute_result"
    }
   ],
   "source": [
    "whichFitsBetter(numberClassifiers)"
   ]
  },
  {
   "cell_type": "code",
   "execution_count": 5,
   "metadata": {},
   "outputs": [
    {
     "data": {
      "image/png": "[encoded data removed]",
      "text/plain": [
       "<Figure size 432x288 with 1 Axes>"
      ]
     },
     "metadata": {
      "needs_background": "light"
     },
     "output_type": "display_data"
    }
   ],
   "source": [
    "import numpy as np\n",
    "import matplotlib.pyplot as plt\n",
    "from scipy.special import factorial\n",
    "from scipy.stats import nbinom\n",
    "from scipy.stats import norm\n",
    "\n",
    "\n",
    "t = np.arange(0, 200, 1)\n",
    "d = nbinom.pmf(t, 1.0, 0.02159, 0)\n",
    "\n",
    "#np.exp(-np.mean(numberClassifiers))*np.power(np.mean(numberClassifiers), t)/factorial(t)\n",
    "f = plt.figure()\n",
    "plt.hist(numberClassifiers, bins = bins, alpha=0.5, density = True)\n",
    "plt.plot(t, d, '-')\n",
    "plt.show()"
   ]
  },
  {
   "cell_type": "markdown",
   "metadata": {},
   "source": [
    "## Proportions of classifiers that a package has"
   ]
  },
  {
   "cell_type": "markdown",
   "metadata": {},
   "source": [
    "For the rule:\n",
    "\n",
    "``` \n",
    "alter Classifier : EClassifier ->\n",
    "  \tEnum#a | DataType#b |Class#c\n",
    "  ;\n",
    "```"
   ]
  },
  {
   "cell_type": "code",
   "execution_count": 6,
   "metadata": {
    "scrolled": true
   },
   "outputs": [
    {
     "name": "stdout",
     "output_type": "stream",
     "text": [
      "[22.3517781   3.94149851  1.00000003]\n"
     ]
    }
   ],
   "source": [
    "import numpy as np\n",
    "ps = []\n",
    "for G in Gs:\n",
    "    p = [0, 0, 0]\n",
    "    for n in G[0]:\n",
    "        if (G.nodes[n]['type'] == 'EClass'):\n",
    "            p[0] = p[0] + 1\n",
    "        if (G.nodes[n]['type'] == 'EDataType'):\n",
    "            p[1] = p[1] + 1\n",
    "        if (G.nodes[n]['type'] == 'EEnum'):\n",
    "            p[2] = p[2] + 1\n",
    "    p = np.array(p)\n",
    "    ps.append(p/np.sum(p))\n",
    "ps = np.array(ps)\n",
    "print(np.mean(ps, axis = 0)/0.03663906)"
   ]
  },
  {
   "cell_type": "markdown",
   "metadata": {},
   "source": [
    "## Number of eliterals"
   ]
  },
  {
   "cell_type": "markdown",
   "metadata": {},
   "source": [
    "For the rule:\n",
    "\n",
    "``` \n",
    "Enum : EEnum ->\n",
    "  \teLiterals += Literal#Distribution(parameters);\n",
    "  ;\n",
    "```"
   ]
  },
  {
   "cell_type": "code",
   "execution_count": 7,
   "metadata": {},
   "outputs": [],
   "source": [
    "numberEliterals = []\n",
    "for G in Gs:\n",
    "    for n in G:\n",
    "        if G.nodes[n]['type'] =='EEnum':\n",
    "            cont = 0\n",
    "            for e in G[n]:\n",
    "                for e2 in G[n][e]:\n",
    "                     if (G[n][e][e2]['type'] == 'eLiterals'):\n",
    "                        cont = cont + 1\n",
    "            numberEliterals.append(cont)"
   ]
  },
  {
   "cell_type": "code",
   "execution_count": 9,
   "metadata": {},
   "outputs": [
    {
     "name": "stdout",
     "output_type": "stream",
     "text": [
      "mean 7.509345794392523\n",
      "var 136.85738929164123\n"
     ]
    },
    {
     "data": {
      "image/png": "[encoded data removed]",
      "text/plain": [
       "<Figure size 432x288 with 1 Axes>"
      ]
     },
     "metadata": {
      "needs_background": "light"
     },
     "output_type": "display_data"
    }
   ],
   "source": [
    "bins = np.arange(0, 50, 1)\n",
    "plt.hist(numberEliterals, bins = bins, alpha=0.5, density = True)\n",
    "\n",
    "print('mean',np.mean(numberEliterals))\n",
    "print('var',np.var(numberEliterals))"
   ]
  },
  {
   "cell_type": "code",
   "execution_count": 10,
   "metadata": {},
   "outputs": [
    {
     "name": "stdout",
     "output_type": "stream",
     "text": [
      "Optimization terminated successfully.\n",
      "         Current function value: 3.074365\n",
      "         Iterations: 39\n",
      "         Function evaluations: 74\n",
      "Optimization terminated successfully.\n",
      "         Current function value: 3.878408\n",
      "         Iterations: 26\n",
      "         Function evaluations: 53\n",
      "Optimization terminated successfully.\n",
      "         Current function value: 6.428943\n",
      "         Iterations: 13\n",
      "         Function evaluations: 26\n"
     ]
    },
    {
     "data": {
      "text/plain": [
       "{'dis': 'nbinom', 'params': (1.0, 0.1349159836696457)}"
      ]
     },
     "execution_count": 10,
     "metadata": {},
     "output_type": "execute_result"
    }
   ],
   "source": [
    "whichFitsBetter(numberEliterals)"
   ]
  },
  {
   "cell_type": "code",
   "execution_count": 11,
   "metadata": {},
   "outputs": [
    {
     "data": {
      "image/png": "[encoded data removed]",
      "text/plain": [
       "<Figure size 432x288 with 1 Axes>"
      ]
     },
     "metadata": {
      "needs_background": "light"
     },
     "output_type": "display_data"
    }
   ],
   "source": [
    "t = np.arange(0, 50, 1)\n",
    "d = nbinom.pmf(t, 1, 0.1349, 0)\n",
    "\n",
    "#np.exp(-np.mean(numberClassifiers))*np.power(np.mean(numberClassifiers), t)/factorial(t)\n",
    "plt.hist(numberEliterals, bins = bins, alpha=0.5, density = True)\n",
    "plt.plot(t, d, '-')\n",
    "plt.show()"
   ]
  },
  {
   "cell_type": "markdown",
   "metadata": {},
   "source": [
    "## Distribution Structural Features"
   ]
  },
  {
   "cell_type": "markdown",
   "metadata": {},
   "source": [
    "For the rule:\n",
    "\n",
    "``` \n",
    "Class: EClass ->\n",
    "    eStructuralFeatures += Feature(self)#Distribution(parameters);\n",
    "  ;\n",
    "```"
   ]
  },
  {
   "cell_type": "code",
   "execution_count": 12,
   "metadata": {},
   "outputs": [],
   "source": [
    "numberStrctFeat= []\n",
    "for G in Gs:\n",
    "    for n in G:\n",
    "        if G.nodes[n]['type'] =='EClass':\n",
    "            cont = 0\n",
    "            for e in G[n]:\n",
    "                for e2 in G[n][e]:\n",
    "                     if (G[n][e][e2]['type'] == 'eStructuralFeatures'):\n",
    "                        cont = cont + 1\n",
    "            numberStrctFeat.append(cont)"
   ]
  },
  {
   "cell_type": "code",
   "execution_count": 13,
   "metadata": {},
   "outputs": [
    {
     "name": "stdout",
     "output_type": "stream",
     "text": [
      "Optimization terminated successfully.\n",
      "         Current function value: 1.035971\n",
      "         Iterations: 20\n",
      "         Function evaluations: 39\n",
      "Optimization terminated successfully.\n",
      "         Current function value: 1.955236\n",
      "         Iterations: 21\n",
      "         Function evaluations: 43\n",
      "Optimization terminated successfully.\n",
      "         Current function value: 1.474423\n",
      "         Iterations: 10\n",
      "         Function evaluations: 20\n"
     ]
    },
    {
     "data": {
      "text/plain": [
       "{'dis': 'poisson', 'params': 0.6878337147215866}"
      ]
     },
     "execution_count": 13,
     "metadata": {},
     "output_type": "execute_result"
    }
   ],
   "source": [
    "whichFitsBetter(numberStrctFeat)"
   ]
  },
  {
   "cell_type": "code",
   "execution_count": 14,
   "metadata": {},
   "outputs": [
    {
     "name": "stdout",
     "output_type": "stream",
     "text": [
      "mean 0.6878337147215866\n",
      "var 2.9229564818839124\n"
     ]
    },
    {
     "data": {
      "image/png": "[encoded data removed]",
      "text/plain": [
       "<Figure size 432x288 with 1 Axes>"
      ]
     },
     "metadata": {
      "needs_background": "light"
     },
     "output_type": "display_data"
    }
   ],
   "source": [
    "bins = np.arange(0, 50, 1)\n",
    "plt.hist(numberStrctFeat, bins = bins, alpha=0.5, density = True)\n",
    "\n",
    "print('mean',np.mean(numberStrctFeat))\n",
    "print('var',np.var(numberStrctFeat))"
   ]
  },
  {
   "cell_type": "markdown",
   "metadata": {},
   "source": [
    "## SuperTypes"
   ]
  },
  {
   "cell_type": "markdown",
   "metadata": {},
   "source": [
    "For the rule:\n",
    "\n",
    "``` \n",
    "Class: EClass ->\n",
    "    eSuperTypes +=  Uniform(model.EClassifiers.filter[\n",
    "      it instanceof org.eclipse.emf.ecore.EClass\n",
    "    ].filter[!this.self.EAllSuperTypes.contains(it)].map[it as org.eclipse.emf.ecore.EClass])#Distribution(parameters);\n",
    "  ;\n",
    "```"
   ]
  },
  {
   "cell_type": "code",
   "execution_count": 15,
   "metadata": {},
   "outputs": [
    {
     "name": "stdout",
     "output_type": "stream",
     "text": [
      "0.636272040302267\n"
     ]
    }
   ],
   "source": [
    "superTypes= []\n",
    "for G in Gs:\n",
    "    for n in G:\n",
    "        if G.nodes[n]['type'] =='EClass':\n",
    "            cont = 0\n",
    "            for e in G[n]:\n",
    "                for e2 in G[n][e]:\n",
    "                     if (G[n][e][e2]['type'] == 'eSuperTypes'):\n",
    "                        cont = cont + 1\n",
    "                superTypes.append(cont)"
   ]
  },
  {
   "cell_type": "code",
   "execution_count": 16,
   "metadata": {},
   "outputs": [
    {
     "name": "stdout",
     "output_type": "stream",
     "text": [
      "Warning: Maximum number of function evaluations has been exceeded.\n",
      "Optimization terminated successfully.\n",
      "         Current function value: 0.989948\n",
      "         Iterations: 18\n",
      "         Function evaluations: 37\n",
      "Optimization terminated successfully.\n",
      "         Current function value: 0.984867\n",
      "         Iterations: 10\n",
      "         Function evaluations: 20\n"
     ]
    },
    {
     "name": "stderr",
     "output_type": "stream",
     "text": [
      "/home/antolin/anaconda3/lib/python3.8/site-packages/statsmodels/base/model.py:547: HessianInversionWarning: Inverting hessian failed, no bse or cov_params available\n",
      "  warn('Inverting hessian failed, no bse or cov_params '\n",
      "/home/antolin/anaconda3/lib/python3.8/site-packages/statsmodels/base/model.py:567: ConvergenceWarning: Maximum Likelihood optimization failed to converge. Check mle_retvals\n",
      "  warn(\"Maximum Likelihood optimization failed to converge. \"\n"
     ]
    },
    {
     "data": {
      "text/plain": [
       "{'dis': 'poisson', 'params': 0.636272040302267}"
      ]
     },
     "execution_count": 16,
     "metadata": {},
     "output_type": "execute_result"
    }
   ],
   "source": [
    "whichFitsBetter(superTypes)"
   ]
  },
  {
   "cell_type": "markdown",
   "metadata": {},
   "source": [
    "## EAttributes vs EReferences"
   ]
  },
  {
   "cell_type": "markdown",
   "metadata": {},
   "source": [
    "For the rule:\n",
    "\n",
    "``` \n",
    "alter Feature (EClass c): EStructuralFeature ->  \n",
    "     if (model.EClassifiers.filter[it instanceof EDataType].size > 0) Attribute#a |if (model.EClassifiers.filter[it instanceof org.eclipse.emf.ecore.EClass].size > 0)\n",
    "     Reference(c)#b\n",
    "  ;\n",
    "```\n",
    "\n",
    "Estimating `a` and `b`."
   ]
  },
  {
   "cell_type": "code",
   "execution_count": 20,
   "metadata": {},
   "outputs": [
    {
     "name": "stdout",
     "output_type": "stream",
     "text": [
      "[1.         4.52531963]\n"
     ]
    }
   ],
   "source": [
    "ps = []\n",
    "for G in Gs:\n",
    "    p = [0, 0]\n",
    "    for n in G:\n",
    "        if (G.nodes[n]['type'] == 'EAttribute'):\n",
    "            p[0] = p[0] + 1\n",
    "        if (G.nodes[n]['type'] == 'EReference'):\n",
    "            p[1] = p[1] + 1\n",
    "    p = np.array(p)\n",
    "    if (np.sum(p) != 0):\n",
    "        ps.append(p/np.sum(p))\n",
    "    else:\n",
    "        ps.append(p)\n",
    "ps = np.array(ps)\n",
    "print(np.mean(ps, axis = 0)/np.min(np.mean(ps, axis = 0)))"
   ]
  },
  {
   "cell_type": "markdown",
   "metadata": {},
   "source": [
    "## EOpposite"
   ]
  },
  {
   "cell_type": "markdown",
   "metadata": {},
   "source": [
    "For the rule:\n",
    "\n",
    "``` \n",
    "Reference(EClass c):EReference ->\n",
    "    eOpposite := if (UniformBool(a)) ReferenceOpp(self.EType as EClass,self,c)\n",
    "  ; \n",
    "```\n",
    "\n",
    "Estimating `a` by calculating the proportion of references that contain an opposite one."
   ]
  },
  {
   "cell_type": "code",
   "execution_count": 21,
   "metadata": {},
   "outputs": [],
   "source": [
    "opposite= []\n",
    "for G in Gs:\n",
    "    for n in G:\n",
    "        if G.nodes[n]['type'] =='EReference':\n",
    "            cont = 0\n",
    "            for e in G[n]:\n",
    "                for e2 in G[n][e]:\n",
    "                     if (G[n][e][e2]['type'] == 'eOpposite'):\n",
    "                        cont = cont + 1\n",
    "                opposite.append(cont)"
   ]
  },
  {
   "cell_type": "code",
   "execution_count": 22,
   "metadata": {},
   "outputs": [
    {
     "data": {
      "text/plain": [
       "0.14899352983465133"
      ]
     },
     "execution_count": 22,
     "metadata": {},
     "output_type": "execute_result"
    }
   ],
   "source": [
    "len([n for n in opposite if n == 1])/len(opposite)"
   ]
  },
  {
   "cell_type": "markdown",
   "metadata": {},
   "source": [
    "# VIATRA and ALLOY, estimating the scope"
   ]
  },
  {
   "cell_type": "markdown",
   "metadata": {},
   "source": [
    "For VIATRA and ALLOY, the distribution over the objects (i.e., $P(o)$) needs to be approximated. First, we calculate $\\{o_1,\\dots,o_n\\}$ by counting the number of objects of each model in $R_{II}$."
   ]
  },
  {
   "cell_type": "code",
   "execution_count": 28,
   "metadata": {},
   "outputs": [
    {
     "data": {
      "image/png": "[encoded data removed]",
      "text/plain": [
       "<Figure size 432x288 with 1 Axes>"
      ]
     },
     "metadata": {
      "needs_background": "light"
     },
     "output_type": "display_data"
    }
   ],
   "source": [
    "import numpy as np\n",
    "import matplotlib.pyplot as plt\n",
    "\n",
    "bins = np.arange(0, 500, 5)\n",
    "numberObjects = [len([n for n in G]) for G in Gs]\n",
    "hist = plt.hist(numberObjects, bins = bins, alpha=0.5)"
   ]
  },
  {
   "cell_type": "markdown",
   "metadata": {},
   "source": [
    "We consider the KDE function:\n",
    "\n",
    "$$\\hat{f}_{h,K}(o)=\\frac{1}{nh}\\sum_{i=1}^nK\\left(\\frac{o-o_i}{h}\\right).$$\n",
    "\n",
    "Where $K \\in \\{\\text{gaussian, tophat, linear}\\}$ and $h\\in \\texttt{np.logspace(-2, -1, 20)}$. $K$ and $h$ are fixed using crossvalidation."
   ]
  },
  {
   "cell_type": "code",
   "execution_count": 29,
   "metadata": {},
   "outputs": [
    {
     "name": "stdout",
     "output_type": "stream",
     "text": [
      "best bandwidth: 0.1\n",
      "best kernel: gaussian\n"
     ]
    },
    {
     "name": "stderr",
     "output_type": "stream",
     "text": [
      "/home/antolin/anaconda3/lib/python3.8/site-packages/sklearn/model_selection/_search.py:813: RuntimeWarning: invalid value encountered in subtract\n",
      "  array_stds = np.sqrt(np.average((array -\n"
     ]
    }
   ],
   "source": [
    "from sklearn.neighbors import KernelDensity\n",
    "from sklearn.model_selection import GridSearchCV\n",
    "\n",
    "numberObjects = [[len([n for n in G])] for G in Gs]\n",
    "\n",
    "params = {'bandwidth': np.logspace(-2, -1, 20),\n",
    "         'kernel':['gaussian', 'tophat','linear']}\n",
    "grid = GridSearchCV(KernelDensity(), params)\n",
    "grid.fit(np.array(numberObjects))\n",
    "print(\"best bandwidth: {0}\".format(grid.best_estimator_.bandwidth))\n",
    "print(\"best kernel: {0}\".format(grid.best_estimator_.kernel))"
   ]
  },
  {
   "cell_type": "markdown",
   "metadata": {},
   "source": [
    "For VIATRA we sample 300 from $\\hat{f}_{h,K}$."
   ]
  },
  {
   "cell_type": "code",
   "execution_count": 30,
   "metadata": {
    "scrolled": true
   },
   "outputs": [
    {
     "data": {
      "text/plain": [
       "array([  4.01565065,   7.0232181 ,   7.94026839, 139.97620783,\n",
       "       228.85759391,   3.95066801,   5.94571385,  39.041605  ,\n",
       "         4.88438176,  16.07811981,   4.14944845,   3.7930015 ,\n",
       "        19.04262587,  13.0676908 ,   8.9362563 , 208.96027282,\n",
       "       134.98671194,  36.97022091,   5.9690987 ,   4.83239962,\n",
       "         6.11523316,  33.10796186,   9.91866357,   3.85335757,\n",
       "         7.05210649,   3.9424212 ,  18.01419532,   6.96806716,\n",
       "       205.06915388,  21.06947491,   7.92744026,  11.8616636 ,\n",
       "       139.84170616,  19.06103794,   3.88111407,   4.94931836,\n",
       "       133.9403686 ,   4.99474327,  16.80637202,   4.01887786,\n",
       "        23.0523891 ,   6.00884221,   5.96891138,   7.00974002,\n",
       "       205.03990463,   5.72274072, 116.19559123, 388.03900933,\n",
       "         6.93475914, 422.96090466,  19.04937418,   5.98838961,\n",
       "         6.79693155,   5.20644929, 115.98894593,   4.10201727,\n",
       "       134.93079502,  10.15363771,  22.02863437,   8.06088438,\n",
       "         3.89547466,  10.12111453,  17.06898182,   6.13018462,\n",
       "         6.93719124,   4.95189729,   4.23039167,  13.89399842,\n",
       "        39.98640503,  14.11368914,   6.0097725 , 347.05829537,\n",
       "         5.9600551 ,   5.03700559,   5.86934731, 134.16581307,\n",
       "        12.9881836 ,  11.93198218,   6.06663831,   6.95392802,\n",
       "       134.86657415,  20.86532825, 893.06937732,  55.98404266,\n",
       "        20.98662984,   8.10777438, 204.88731742,   8.92693222,\n",
       "         5.96151202, 134.00943516, 134.99578285, 204.97131128,\n",
       "       387.99383736, 208.98926947,   9.92803956,  10.9187007 ,\n",
       "        12.02745164, 134.91090849,  40.88426447,   5.96877077,\n",
       "         3.9842333 ,   4.22567235,   4.92952997,   5.09432607,\n",
       "         7.07471883,   3.8811055 ,  19.0773253 ,   5.88161194,\n",
       "        39.73408278,   5.06063195,  15.82441094,   4.04509345,\n",
       "         5.93159891,   6.16595508,  85.10685094,  10.95466142,\n",
       "         6.93121624,  69.87859226,   6.95590774,  55.97196445,\n",
       "       204.96353065, 132.01567039,  17.05785215,   8.03496545,\n",
       "       228.92358561,   4.85622085,   4.13645318,   3.93105508,\n",
       "         6.93477064,   9.94788107,   4.81569304,   9.9522026 ,\n",
       "         4.95203442,   6.06203583,  19.06984571,  35.00037709,\n",
       "         6.09318484, 135.0339965 , 134.99843179,  10.01609282,\n",
       "        15.98093465, 134.96051505,   5.97322665,  38.88719887,\n",
       "        26.02804417, 208.90068764,   5.08416313,   5.97505414,\n",
       "         7.0049495 , 176.04938368,   5.06433145,   4.84293766,\n",
       "         3.97930963, 134.08801789,  11.83018942, 298.03872805,\n",
       "        25.77444358,  18.89774932, 229.00386306,   8.83432849,\n",
       "         5.90144893,   5.8528165 ,  13.16481349,   7.01642278,\n",
       "        12.05672903, 134.97773249,  18.96465683,  22.83835258,\n",
       "        11.97081626,  12.92385078, 205.08579239,   5.11411019,\n",
       "         7.14665787,   4.08525519,  11.94013461,  39.8884103 ,\n",
       "        18.07666632, 134.03562928,  22.82314615,   4.03554818,\n",
       "        12.08145198,   9.00589256,   3.98149463,   9.91923515,\n",
       "         3.85534653, 134.08002979,   9.96908856,  34.97665333,\n",
       "        12.17327212,   7.06845011,  11.0370825 , 116.01420618,\n",
       "        11.15199949,   7.17195893,   6.09295051,   6.05822246,\n",
       "        19.79053969,  10.01237219,  24.9869893 ,   6.00939532,\n",
       "         7.09430461,   5.72603228,   3.94306879, 209.02699044,\n",
       "         6.95331545, 892.85830939,   4.08689635,   6.02768719,\n",
       "       418.90288954,  16.03148172,   7.08215857,  20.00052926,\n",
       "         7.08005648,  28.00782602, 134.9604771 ,  13.88405795,\n",
       "         7.99140692,  16.01942929,  35.08758328,  40.98848925,\n",
       "        10.04574156,  13.9035388 ,   9.92173708,  32.98896107,\n",
       "        10.89453715,   5.08202478,  16.04631303,   8.02790958,\n",
       "         7.03389041,  12.20210436,   9.95311358,   7.77985587,\n",
       "         4.01993002,   6.99493965,   3.9482481 ,   4.90211701,\n",
       "        17.95608105,  10.01813384,   4.94971833,  12.24124537,\n",
       "       134.90394956,   6.92068826,   3.771138  ,   5.02514844,\n",
       "       208.79835934,  10.94605454,  20.97243295,  10.9290272 ,\n",
       "        12.17388727,   6.09943944,  10.13191369,  16.91175812,\n",
       "        71.11285941,  21.04960009,   4.07714059, 141.10294388,\n",
       "        13.90912368,  11.95756824,   5.0862596 , 420.73443809,\n",
       "         8.15133281,   5.05531321,   3.9954296 , 134.02205077,\n",
       "         5.89700647,  11.96500566,  13.11002843,  12.1298022 ,\n",
       "         7.26962241,  11.99260753,   5.9341447 ,   5.9485766 ,\n",
       "        21.89819581,   4.99221452,   8.03827324,  17.99657577,\n",
       "        17.10963468,  32.97657842,   9.96525493,  13.94187315,\n",
       "       420.83673655, 297.84322323,   4.88208421,  26.13014281,\n",
       "        18.08952603,   5.13749641,  32.86677883,   5.80313753,\n",
       "         6.93399437,   4.0175819 ,   5.04986903,   6.10479722,\n",
       "         4.02842797,  12.17426688,   6.97773943,  19.90869208,\n",
       "        13.83187818, 134.91110286,  12.0242118 ,   4.91112797])"
      ]
     },
     "execution_count": 30,
     "metadata": {},
     "output_type": "execute_result"
    }
   ],
   "source": [
    "kde = grid.best_estimator_\n",
    "new_data = kde.sample(300, random_state=0)\n",
    "new_data = new_data.reshape(-1)\n",
    "new_data"
   ]
  },
  {
   "cell_type": "markdown",
   "metadata": {},
   "source": [
    "We check that the histogram samples are close to the original one:"
   ]
  },
  {
   "cell_type": "code",
   "execution_count": 31,
   "metadata": {},
   "outputs": [
    {
     "data": {
      "image/png": "[encoded data removed]",
      "text/plain": [
       "<Figure size 432x288 with 1 Axes>"
      ]
     },
     "metadata": {
      "needs_background": "light"
     },
     "output_type": "display_data"
    }
   ],
   "source": [
    "size_bin=5\n",
    "bins = np.arange(-100, 500, size_bin)\n",
    "numberObjects = [len([n for n in G]) for G in Gs]\n",
    "hist = plt.hist(numberObjects, bins = bins, alpha=0.5,density=True)\n",
    "plt.hist(new_data, bins = bins, alpha=0.5,density=True)\n",
    "probs = hist[0]\n",
    "probs = (probs/np.sum(probs))\n",
    "objs = hist[1]"
   ]
  },
  {
   "cell_type": "markdown",
   "metadata": {},
   "source": [
    "Finally, we generate the config files for VIATRA and ALLOY. These files are already provided together with the final and generated models. Therefore, you should not execute these code snippets. \n",
    "\n",
    "**Note**: For Alloy we generate more samples (400) since the generator fails more when it looks for a solution to the logic problem."
   ]
  },
  {
   "cell_type": "markdown",
   "metadata": {},
   "source": [
    "```\n",
    "import numpy as np\n",
    "import random\n",
    "i = 0\n",
    "for s in new_data:\n",
    "    with open('../configurationFiles/Ecore/model.vsconfig', 'r') as file:\n",
    "        data = file.read()\n",
    "    x = data.replace(\"#node += 12..12\", \"#node += \"+str(int(s)))\n",
    "    x = x.replace(\"debug =\\t\\t\\t\\\"outputs/debug\\\"\",\"debug =\\t\\t\\t\\\"outputs\"+str(i)+\"/debug\\\"\")\n",
    "    x = x.replace(\"log =\\t\\t\\t\\\"outputs/log.txt\\\"\",\"log =\\t\\t\\t\\\"outputs\"+str(i)+\"/log.txt\\\"\")\n",
    "    x = x.replace(\"output =\\t\\t\\\"outputs/models\\\"\",\"output =\\t\\t\\\"outputs\"+str(i)+\"/models\\\"\")\n",
    "    x = x.replace(\"runs = 400\",\"runs = 1\")\n",
    "    with open(\"../configurationFiles/Ecore/VIATRA/smallEcoreGen\"+str(i)+\".vsconfig\", \"w\") as text_file:\n",
    "        text_file.write(x)\n",
    "        i = i + 1\n",
    "```"
   ]
  },
  {
   "cell_type": "markdown",
   "metadata": {
    "scrolled": true
   },
   "source": [
    "```\n",
    "new_data = kde.sample(400, random_state=0)\n",
    "new_data = new_data.reshape(-1)\n",
    "new_data\n",
    "i = 0\n",
    "for s in new_data:\n",
    "    if int(s)>30:\n",
    "        print(s)\n",
    "        continue\n",
    "    with open('../configurationFiles/Ecore/modelAlloy.vsconfig', 'r') as file:\n",
    "        data = file.read()\n",
    "    x = data.replace(\"#node += 12..12\", \"#node += \"+str(int(s)))\n",
    "    x = x.replace(\"debug =\\t\\t\\t\\\"outputs/debug\\\"\",\"debug =\\t\\t\\t\\\"outputs\"+str(i)+\"/debug\\\"\")\n",
    "    x = x.replace(\"log =\\t\\t\\t\\\"outputs/log.txt\\\"\",\"log =\\t\\t\\t\\\"outputs\"+str(i)+\"/log.txt\\\"\")\n",
    "    x = x.replace(\"output =\\t\\t\\\"outputs/models\\\"\",\"output =\\t\\t\\\"outputs\"+str(i)+\"/models\\\"\")\n",
    "    x = x.replace(\"ViatraSolver\", \"AlloySolver\")\n",
    "    with open(\"../configurationFiles/Ecore/ALLOY/smallEcoreGen\"+str(i)+\".vsconfig\", \"w\") as text_file:\n",
    "        text_file.write(x)\n",
    "        i = i + 1\n",
    "```"
   ]
  },
  {
   "cell_type": "markdown",
   "metadata": {},
   "source": [
    "# RANDOM generator"
   ]
  },
  {
   "cell_type": "markdown",
   "metadata": {},
   "source": [
    "We do thy same as the previous section but considering pairs $(o,d)$ where $o$ is the number of objects and $d$ is the average out degree."
   ]
  },
  {
   "cell_type": "code",
   "execution_count": 32,
   "metadata": {},
   "outputs": [
    {
     "data": {
      "text/plain": [
       "array([[ 12.        ,   2.25      ],\n",
       "       [  6.        ,   2.5       ],\n",
       "       [ 19.        ,   3.26315789],\n",
       "       [ 26.        ,   2.80769231],\n",
       "       [  4.        ,   1.75      ],\n",
       "       [135.        ,   2.82222222],\n",
       "       [  7.        ,   2.        ],\n",
       "       [  4.        ,   1.75      ],\n",
       "       [ 41.        ,   2.80487805],\n",
       "       [134.        ,   2.84328358],\n",
       "       [ 11.        ,   3.        ],\n",
       "       [  5.        ,   2.        ],\n",
       "       [  5.        ,   1.8       ],\n",
       "       [  5.        ,   2.4       ],\n",
       "       [ 25.        ,   1.96      ],\n",
       "       [  7.        ,   1.71428571],\n",
       "       [893.        ,   1.99776036],\n",
       "       [  9.        ,   2.33333333],\n",
       "       [ 37.        ,   2.7027027 ],\n",
       "       [  8.        ,   2.125     ],\n",
       "       [141.        ,   2.80141844],\n",
       "       [209.        ,   3.07177033],\n",
       "       [ 12.        ,   2.66666667],\n",
       "       [  9.        ,   2.88888889],\n",
       "       [ 14.        ,   2.35714286],\n",
       "       [  5.        ,   1.6       ],\n",
       "       [229.        ,   3.16593886],\n",
       "       [ 10.        ,   2.6       ],\n",
       "       [ 12.        ,   2.5       ],\n",
       "       [  7.        ,   1.71428571],\n",
       "       [ 12.        ,   3.16666667],\n",
       "       [ 21.        ,   2.52380952],\n",
       "       [388.        ,   3.11082474],\n",
       "       [  5.        ,   2.2       ],\n",
       "       [  6.        ,   2.        ],\n",
       "       [ 18.        ,   2.33333333],\n",
       "       [ 12.        ,   2.33333333],\n",
       "       [  5.        ,   2.4       ],\n",
       "       [  5.        ,   2.        ],\n",
       "       [  4.        ,   1.75      ],\n",
       "       [  4.        ,   1.75      ],\n",
       "       [ 12.        ,   2.16666667],\n",
       "       [ 13.        ,   2.53846154],\n",
       "       [ 35.        ,   2.37142857],\n",
       "       [209.        ,   3.07177033],\n",
       "       [ 11.        ,   2.45454545],\n",
       "       [ 11.        ,   2.45454545],\n",
       "       [ 12.        ,   2.83333333],\n",
       "       [  6.        ,   2.        ],\n",
       "       [  7.        ,   2.42857143],\n",
       "       [  4.        ,   1.75      ],\n",
       "       [  4.        ,   1.75      ],\n",
       "       [116.        ,   3.00862069],\n",
       "       [  8.        ,   2.5       ],\n",
       "       [ 20.        ,   2.8       ],\n",
       "       [ 40.        ,   2.925     ],\n",
       "       [ 20.        ,   2.75      ],\n",
       "       [  8.        ,   2.        ],\n",
       "       [  4.        ,   1.5       ],\n",
       "       [ 10.        ,   2.2       ],\n",
       "       [  8.        ,   2.125     ],\n",
       "       [  8.        ,   2.25      ],\n",
       "       [  7.        ,   2.        ],\n",
       "       [ 10.        ,   2.5       ],\n",
       "       [135.        ,   2.82222222],\n",
       "       [ 28.        ,   2.64285714],\n",
       "       [  8.        ,   2.25      ],\n",
       "       [  4.        ,   1.5       ],\n",
       "       [ 10.        ,   2.5       ],\n",
       "       [  5.        ,   2.4       ],\n",
       "       [ 13.        ,   2.53846154],\n",
       "       [  6.        ,   1.66666667],\n",
       "       [ 10.        ,   2.5       ],\n",
       "       [421.        ,   3.08551069],\n",
       "       [  6.        ,   1.66666667],\n",
       "       [  4.        ,   1.75      ],\n",
       "       [ 24.        ,   2.5       ],\n",
       "       [  7.        ,   2.28571429],\n",
       "       [  7.        ,   2.85714286],\n",
       "       [135.        ,   2.82222222],\n",
       "       [  8.        ,   2.5       ],\n",
       "       [ 57.        ,   2.92982456],\n",
       "       [  6.        ,   1.66666667],\n",
       "       [ 15.        ,   3.        ],\n",
       "       [ 22.        ,   2.77272727],\n",
       "       [ 40.        ,   2.925     ],\n",
       "       [ 18.        ,   3.22222222],\n",
       "       [390.        ,   1.99487179],\n",
       "       [ 10.        ,   2.5       ],\n",
       "       [ 23.        ,   2.65217391],\n",
       "       [423.        ,   3.14184397],\n",
       "       [135.        ,   2.82222222],\n",
       "       [  5.        ,   1.6       ],\n",
       "       [ 18.        ,   2.5       ],\n",
       "       [  4.        ,   1.75      ],\n",
       "       [ 16.        ,   1.875     ],\n",
       "       [229.        ,   3.16593886],\n",
       "       [ 14.        ,   2.35714286],\n",
       "       [ 19.        ,   2.26315789],\n",
       "       [ 11.        ,   1.81818182],\n",
       "       [  9.        ,   2.33333333],\n",
       "       [229.        ,   3.16593886],\n",
       "       [ 21.        ,   2.47619048],\n",
       "       [ 21.        ,   2.19047619],\n",
       "       [  5.        ,   2.4       ],\n",
       "       [229.        ,   3.16593886],\n",
       "       [  5.        ,   2.4       ],\n",
       "       [ 10.        ,   1.8       ],\n",
       "       [  6.        ,   2.16666667],\n",
       "       [  6.        ,   2.16666667],\n",
       "       [  7.        ,   1.71428571],\n",
       "       [ 16.        ,   2.4375    ],\n",
       "       [ 20.        ,   2.9       ],\n",
       "       [  6.        ,   2.33333333],\n",
       "       [140.        ,   2.80714286],\n",
       "       [ 10.        ,   2.5       ],\n",
       "       [ 22.        ,   3.36363636],\n",
       "       [347.        ,   3.06916427],\n",
       "       [  7.        ,   2.14285714],\n",
       "       [  6.        ,   2.        ],\n",
       "       [ 22.        ,   2.77272727],\n",
       "       [ 12.        ,   2.33333333],\n",
       "       [  6.        ,   2.16666667],\n",
       "       [  4.        ,   2.        ],\n",
       "       [  7.        ,   2.28571429],\n",
       "       [132.        ,   2.84848485],\n",
       "       [175.        ,   2.94857143],\n",
       "       [  7.        ,   2.28571429],\n",
       "       [  4.        ,   2.25      ],\n",
       "       [  4.        ,   1.75      ],\n",
       "       [205.        ,   3.07804878],\n",
       "       [ 14.        ,   2.64285714],\n",
       "       [  4.        ,   1.75      ],\n",
       "       [ 10.        ,   1.8       ],\n",
       "       [419.        ,   3.1097852 ],\n",
       "       [ 41.        ,   1.95121951],\n",
       "       [140.        ,   2.80714286],\n",
       "       [  4.        ,   2.        ],\n",
       "       [ 14.        ,   2.35714286],\n",
       "       [  6.        ,   1.66666667],\n",
       "       [ 10.        ,   2.5       ],\n",
       "       [ 21.        ,   2.76190476],\n",
       "       [ 19.        ,   3.26315789],\n",
       "       [  6.        ,   1.83333333],\n",
       "       [  4.        ,   1.75      ],\n",
       "       [ 70.        ,   2.95714286],\n",
       "       [ 12.        ,   2.33333333],\n",
       "       [ 35.        ,   2.94285714],\n",
       "       [ 19.        ,   2.68421053],\n",
       "       [  4.        ,   1.5       ],\n",
       "       [  8.        ,   2.        ],\n",
       "       [  5.        ,   2.2       ],\n",
       "       [  4.        ,   2.        ],\n",
       "       [134.        ,   2.84328358],\n",
       "       [  5.        ,   2.        ],\n",
       "       [  9.        ,   2.        ],\n",
       "       [ 20.        ,   2.9       ],\n",
       "       [ 10.        ,   2.6       ],\n",
       "       [  6.        ,   2.16666667],\n",
       "       [  4.        ,   1.5       ],\n",
       "       [  8.        ,   2.375     ],\n",
       "       [  4.        ,   1.75      ],\n",
       "       [ 11.        ,   2.90909091],\n",
       "       [135.        ,   2.83703704],\n",
       "       [ 17.        ,   3.23529412],\n",
       "       [  7.        ,   2.28571429],\n",
       "       [205.        ,   3.07804878],\n",
       "       [  6.        ,   1.66666667],\n",
       "       [ 11.        ,   2.72727273],\n",
       "       [  4.        ,   1.75      ],\n",
       "       [  4.        ,   1.75      ],\n",
       "       [ 16.        ,   2.9375    ],\n",
       "       [  4.        ,   1.75      ],\n",
       "       [ 56.        ,   2.69642857],\n",
       "       [  6.        ,   1.66666667],\n",
       "       [209.        ,   3.07177033],\n",
       "       [ 23.        ,   2.60869565],\n",
       "       [ 99.        ,   3.07070707],\n",
       "       [  7.        ,   2.28571429],\n",
       "       [209.        ,   3.07177033],\n",
       "       [ 13.        ,   2.53846154],\n",
       "       [205.        ,   3.07804878],\n",
       "       [ 12.        ,   2.66666667],\n",
       "       [  5.        ,   2.4       ],\n",
       "       [  6.        ,   2.16666667],\n",
       "       [ 63.        ,   3.07936508],\n",
       "       [  8.        ,   2.25      ],\n",
       "       [ 21.        ,   2.57142857],\n",
       "       [  6.        ,   2.        ],\n",
       "       [ 14.        ,   3.        ],\n",
       "       [ 19.        ,   2.47368421],\n",
       "       [ 71.        ,   2.95774648],\n",
       "       [ 16.        ,   2.625     ],\n",
       "       [ 12.        ,   2.5       ],\n",
       "       [  6.        ,   1.66666667],\n",
       "       [  4.        ,   2.        ],\n",
       "       [ 12.        ,   2.58333333],\n",
       "       [  4.        ,   1.75      ],\n",
       "       [ 12.        ,   2.5       ],\n",
       "       [ 33.        ,   2.84848485],\n",
       "       [203.        ,   3.09852217],\n",
       "       [ 26.        ,   1.92307692],\n",
       "       [151.        ,   2.86754967],\n",
       "       [ 85.        ,   2.44705882],\n",
       "       [ 17.        ,   2.47058824],\n",
       "       [  4.        ,   2.5       ],\n",
       "       [  4.        ,   1.75      ],\n",
       "       [ 41.        ,   2.7804878 ],\n",
       "       [ 37.        ,   2.7027027 ],\n",
       "       [ 40.        ,   2.925     ],\n",
       "       [  5.        ,   2.        ],\n",
       "       [  4.        ,   1.75      ],\n",
       "       [298.        ,   1.99328859],\n",
       "       [135.        ,   2.82222222],\n",
       "       [  4.        ,   2.        ],\n",
       "       [135.        ,   2.82222222],\n",
       "       [  7.        ,   2.28571429],\n",
       "       [  5.        ,   2.4       ],\n",
       "       [ 14.        ,   2.64285714],\n",
       "       [  6.        ,   1.83333333],\n",
       "       [  7.        ,   2.42857143],\n",
       "       [  6.        ,   1.66666667],\n",
       "       [ 39.        ,   2.79487179],\n",
       "       [  8.        ,   2.        ],\n",
       "       [ 16.        ,   2.6875    ],\n",
       "       [  4.        ,   1.75      ],\n",
       "       [  4.        ,   1.75      ],\n",
       "       [ 17.        ,   3.        ],\n",
       "       [ 21.        ,   2.57142857],\n",
       "       [  6.        ,   1.66666667],\n",
       "       [229.        ,   3.16593886],\n",
       "       [ 13.        ,   2.53846154],\n",
       "       [134.        ,   2.85820896],\n",
       "       [  4.        ,   1.75      ],\n",
       "       [  5.        ,   2.        ],\n",
       "       [ 17.        ,   2.82352941],\n",
       "       [  7.        ,   2.28571429],\n",
       "       [ 18.        ,   1.88888889],\n",
       "       [  5.        ,   2.4       ],\n",
       "       [ 17.        ,   2.41176471],\n",
       "       [  5.        ,   2.4       ],\n",
       "       [ 19.        ,   2.57894737],\n",
       "       [ 12.        ,   2.66666667],\n",
       "       [ 12.        ,   1.83333333],\n",
       "       [  6.        ,   1.66666667],\n",
       "       [ 33.        ,   2.63636364],\n",
       "       [  5.        ,   2.4       ],\n",
       "       [  7.        ,   2.14285714],\n",
       "       [ 26.        ,   3.03846154],\n",
       "       [176.        ,   2.375     ]])"
      ]
     },
     "execution_count": 32,
     "metadata": {},
     "output_type": "execute_result"
    }
   ],
   "source": [
    "deg_objects = [np.mean([G.out_degree(n) for n in G]) for G in Gs]\n",
    "objects_deg = np.array(list(zip(numberObjects,deg_objects)))\n",
    "objects_deg"
   ]
  },
  {
   "cell_type": "code",
   "execution_count": 33,
   "metadata": {},
   "outputs": [
    {
     "name": "stdout",
     "output_type": "stream",
     "text": [
      "best bandwidth: 0.1\n",
      "best kernel: gaussian\n"
     ]
    },
    {
     "name": "stderr",
     "output_type": "stream",
     "text": [
      "/home/antolin/anaconda3/lib/python3.8/site-packages/sklearn/model_selection/_search.py:813: RuntimeWarning: invalid value encountered in subtract\n",
      "  array_stds = np.sqrt(np.average((array -\n"
     ]
    }
   ],
   "source": [
    "from sklearn.neighbors import KernelDensity\n",
    "from sklearn.model_selection import GridSearchCV\n",
    "params = {'bandwidth': np.logspace(-2, -1, 20),\n",
    "         'kernel':['gaussian', 'tophat']}\n",
    "grid2 = GridSearchCV(KernelDensity(), params)\n",
    "grid2.fit(objects_deg)\n",
    "print(\"best bandwidth: {0}\".format(grid2.best_estimator_.bandwidth))\n",
    "print(\"best kernel: {0}\".format(grid2.best_estimator_.kernel))"
   ]
  },
  {
   "cell_type": "code",
   "execution_count": 34,
   "metadata": {},
   "outputs": [],
   "source": [
    "kde2 = grid2.best_estimator_\n",
    "new_data2 = kde2.sample(300, random_state=0)"
   ]
  },
  {
   "cell_type": "markdown",
   "metadata": {},
   "source": [
    "Now, using the new data generated (i.e., new pairs $(o,d)$), we call the RANDOM generator in order to generate the models. Doing something like this."
   ]
  },
  {
   "cell_type": "markdown",
   "metadata": {},
   "source": [
    "```\n",
    "import numpy as np\n",
    "import random\n",
    "import subprocess\n",
    "i = 0\n",
    "for s in new_data2:\n",
    "    subprocess.call(['java', '-jar', 'path to generator', \n",
    "                     '-m','path to metamodel',\n",
    "                    '-f','-n','1','-s',str(s[0]),'-d',str(s[1]),'-o',\n",
    "                     'path to output folder',\n",
    "                    '-e',str(i)])\n",
    "    i = i + 1\n",
    "```"
   ]
  },
  {
   "cell_type": "markdown",
   "metadata": {},
   "source": [
    "The generated models used to report the results in the paper are already provided."
   ]
  }
 ],
 "metadata": {
  "kernelspec": {
   "display_name": "Python 3",
   "language": "python",
   "name": "python3"
  },
  "language_info": {
   "codemirror_mode": {
    "name": "ipython",
    "version": 3
   },
   "file_extension": ".py",
   "mimetype": "text/x-python",
   "name": "python",
   "nbconvert_exporter": "python",
   "pygments_lexer": "ipython3",
   "version": "3.8.3"
  }
 },
 "nbformat": 4,
 "nbformat_minor": 4
}
